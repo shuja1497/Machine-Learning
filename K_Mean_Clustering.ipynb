{
 "cells": [
  {
   "cell_type": "code",
   "execution_count": 16,
   "metadata": {
    "collapsed": true
   },
   "outputs": [],
   "source": [
    "import numpy as np\n",
    "from matplotlib import pyplot as plt\n",
    "%matplotlib inline"
   ]
  },
  {
   "cell_type": "code",
   "execution_count": 18,
   "metadata": {},
   "outputs": [
    {
     "name": "stdout",
     "output_type": "stream",
     "text": [
      "(400, 2) (400, 2)\n"
     ]
    }
   ],
   "source": [
    "mean_01 = np.array([1, 3])\n",
    "cov_01 = np.array([[.8, .3], [.3, .9]])\n",
    "\n",
    "mean_02 = np.array([-1, 0])\n",
    "cov_02 = np.array([[2, 0.8], [-0.8, .4]])\n",
    "\n",
    "dist_01 = np.random.multivariate_normal(mean_01, cov_01, 400)\n",
    "dist_02 = np.random.multivariate_normal(mean_02, cov_02, 400)\n",
    "\n",
    "print dist_01.shape , dist_01.shape"
   ]
  },
  {
   "cell_type": "code",
   "execution_count": 19,
   "metadata": {},
   "outputs": [
    {
     "data": {
      "image/png": "[encoded data removed]",
      "text/plain": [
       "<matplotlib.figure.Figure at 0x7f6471668fd0>"
      ]
     },
     "metadata": {},
     "output_type": "display_data"
    }
   ],
   "source": [
    "plt.figure(0)\n",
    "\n",
    "plt.scatter(dist_01[:, 0], dist_01[:, 1])\n",
    "plt.scatter(dist_02[:, 0], dist_02[:, 1], color='red')\n",
    "\n",
    "plt.show()"
   ]
  },
  {
   "cell_type": "code",
   "execution_count": 20,
   "metadata": {},
   "outputs": [
    {
     "name": "stdout",
     "output_type": "stream",
     "text": [
      "(800, 2) [-0.0110327   1.52754968]\n"
     ]
    }
   ],
   "source": [
    "data = np.zeros((dist_01.shape[0] + dist_02.shape[0], dist_01.shape[1]))\n",
    "data[:dist_01.shape[0]] = dist_01\n",
    "data[dist_01.shape[0]:] = dist_02\n",
    "print data.shape, data.mean(axis=0)"
   ]
  },
  {
   "cell_type": "code",
   "execution_count": 23,
   "metadata": {},
   "outputs": [],
   "source": [
    "# we have our dataset with normalised data ..\n",
    "#we will use standard normal deviation to shift the center"
   ]
  },
  {
   "cell_type": "code",
   "execution_count": 24,
   "metadata": {},
   "outputs": [
    {
     "name": "stdout",
     "output_type": "stream",
     "text": [
      "[  1.99007477e-16  -1.80133686e-16] [ 1.  1.]\n"
     ]
    }
   ],
   "source": [
    "data_std = (data - data.mean(axis=0))/data.std(axis=0)\n",
    "print data_std.mean(axis=0), data_std.std(axis=0)\n"
   ]
  },
  {
   "cell_type": "code",
   "execution_count": 25,
   "metadata": {
    "collapsed": true
   },
   "outputs": [],
   "source": [
    "# above data has mean 0 0 and std 1 1 that is ... it is normally standard deviation "
   ]
  },
  {
   "cell_type": "code",
   "execution_count": 26,
   "metadata": {},
   "outputs": [
    {
     "data": {
      "image/png": "[encoded data removed]",
      "text/plain": [
       "<matplotlib.figure.Figure at 0x7f64716caed0>"
      ]
     },
     "metadata": {},
     "output_type": "display_data"
    }
   ],
   "source": [
    "plt.figure(0)\n",
    "plt.xlim(-6, 6)\n",
    "plt.ylim(-8, 8)\n",
    "plt.scatter(data_std[:, 0], data_std[:, 1])\n",
    "plt.show()"
   ]
  },
  {
   "cell_type": "code",
   "execution_count": 32,
   "metadata": {},
   "outputs": [
    {
     "name": "stdout",
     "output_type": "stream",
     "text": [
      "[ 0.36279662  0.50588664]\n"
     ]
    }
   ],
   "source": [
    "print np.random.random(2)"
   ]
  },
  {
   "cell_type": "code",
   "execution_count": 34,
   "metadata": {},
   "outputs": [
    {
     "name": "stdout",
     "output_type": "stream",
     "text": [
      "[[ 0.66116398  0.25554694  0.45966538]\n",
      " [ 0.23760688  0.24042543  0.10191924]]\n"
     ]
    }
   ],
   "source": [
    "print np.random.random((2,3))"
   ]
  },
  {
   "cell_type": "code",
   "execution_count": 35,
   "metadata": {
    "collapsed": true
   },
   "outputs": [],
   "source": [
    "def distance(x1, x2):\n",
    "    return np.sqrt(((x1-x2)**2).sum())"
   ]
  },
  {
   "cell_type": "code",
   "execution_count": 36,
   "metadata": {},
   "outputs": [
    {
     "name": "stdout",
     "output_type": "stream",
     "text": [
      "{'c2': {'pts': [], 'coords': array([ 0.77899602,  0.25417006])}, 'c1': {'pts': [], 'coords': array([ 0.28846631,  0.58520761])}, 'c0': {'pts': [], 'coords': array([ 0.37990073,  0.22958217])}}\n"
     ]
    }
   ],
   "source": [
    "centers = {}# will contain centers and their info \n",
    "k = 3\n",
    "\n",
    "for ix in range(k):\n",
    "    # d is a dict containing coordinates of center and pts lying in its corresponding cluster \n",
    "    d = {\n",
    "        'coords': np.random.random((2,)),\n",
    "        'pts': []\n",
    "    }\n",
    "    centers['c' + str(ix)] = d\n",
    "\n",
    "print centers"
   ]
  },
  {
   "cell_type": "code",
   "execution_count": 40,
   "metadata": {},
   "outputs": [
    {
     "name": "stdout",
     "output_type": "stream",
     "text": [
      "[ 0.28846631  0.58520761]\n"
     ]
    }
   ],
   "source": [
    "print centers['c' + str(1)]['coords']"
   ]
  },
  {
   "cell_type": "code",
   "execution_count": 37,
   "metadata": {
    "collapsed": true
   },
   "outputs": [],
   "source": [
    "colors = ['red', 'green', 'blue', 'yellow', 'cyan']"
   ]
  },
  {
   "cell_type": "code",
   "execution_count": 75,
   "metadata": {},
   "outputs": [],
   "source": [
    "N = data_std.shape[0]\n",
    "\n",
    "for ix in range(N):\n",
    "    dist = []\n",
    "    #calc dist from all 3 centers \n",
    "    for ic in range(k):\n",
    "        d = distance(data_std[ix], centers['c' + str(ic)]['coords'])# ic iterates through cen6ters 0 1 ...k\n",
    "        dist.append(d)\n",
    "    dist = np.asarray(dist)\n",
    "    c = dist.argmin()# returns index of min dist ...this will be the cluster_center..\n",
    "    #finally we will append pts data_std[ix] to centers dict corresponding to c center obtained from above line\n",
    "    centers['c' + str(c)]['pts'].append(data_std[ix])\n",
    "#print centers    \n"
   ]
  },
  {
   "cell_type": "code",
   "execution_count": 76,
   "metadata": {},
   "outputs": [
    {
     "name": "stdout",
     "output_type": "stream",
     "text": [
      "[-0.6825916  -0.08201416]\n",
      "[-0.2639075  -0.89476402]\n",
      "[ 0.90374671  1.10240737]\n"
     ]
    },
    {
     "data": {
      "image/png": "[encoded data removed]",
      "text/plain": [
       "<matplotlib.figure.Figure at 0x7f64704a4d10>"
      ]
     },
     "metadata": {},
     "output_type": "display_data"
    }
   ],
   "source": [
    "plt.figure(0)\n",
    "for ik in range(k):\n",
    "    c = np.asarray(centers['c' + str(ik)]['pts'])\n",
    "    cc = centers['c' + str(ik)]['coords']\n",
    "    print cc\n",
    "    try:\n",
    "        plt.scatter(c[:, 0], c[:, 1], color=colors[ik])\n",
    "    except:\n",
    "        pass\n",
    "    plt.scatter(cc[0], cc[1], color='black')"
   ]
  },
  {
   "cell_type": "code",
   "execution_count": 77,
   "metadata": {},
   "outputs": [
    {
     "name": "stdout",
     "output_type": "stream",
     "text": [
      "[-0.98970254 -0.29388998]\n",
      "[-0.44724749 -1.02227019]\n",
      "[ 0.80674816  0.92032276]\n"
     ]
    },
    {
     "data": {
      "image/png": "[encoded data removed]",
      "text/plain": [
       "<matplotlib.figure.Figure at 0x7f6470151890>"
      ]
     },
     "metadata": {},
     "output_type": "display_data"
    }
   ],
   "source": [
    "# either run it for few iterations or until a presetted threshold comparing with the shift  of centers\n",
    "plt.figure(1)    \n",
    "for ik in range(k):\n",
    "    c = np.asarray(centers['c' + str(ik)]['pts'])\n",
    "    if not len(c) is 0:\n",
    "        #updating center to mean of the resulting points \n",
    "        centers['c' + str(ik)]['coords'] = c.mean(axis=0)\n",
    "    cc = centers['c' + str(ik)]['coords']\n",
    "    print cc\n",
    "    try:\n",
    "        plt.scatter(c[:, 0], c[:, 1], color=colors[ik])\n",
    "    except:\n",
    "        pass\n",
    "    plt.scatter(cc[0], cc[1], color='black')\n",
    "    centers['c' + str(ik)]['pts'] = []\n",
    "plt.show()"
   ]
  },
  {
   "cell_type": "code",
   "execution_count": null,
   "metadata": {
    "collapsed": true
   },
   "outputs": [],
   "source": []
  },
  {
   "cell_type": "code",
   "execution_count": null,
   "metadata": {
    "collapsed": true
   },
   "outputs": [],
   "source": []
  },
  {
   "cell_type": "code",
   "execution_count": null,
   "metadata": {
    "collapsed": true
   },
   "outputs": [],
   "source": []
  },
  {
   "cell_type": "code",
   "execution_count": null,
   "metadata": {
    "collapsed": true
   },
   "outputs": [],
   "source": []
  },
  {
   "cell_type": "code",
   "execution_count": null,
   "metadata": {
    "collapsed": true
   },
   "outputs": [],
   "source": []
  }
 ],
 "metadata": {
  "kernelspec": {
   "display_name": "Python 2",
   "language": "python",
   "name": "python2"
  },
  "language_info": {
   "codemirror_mode": {
    "name": "ipython",
    "version": 2
   },
   "file_extension": ".py",
   "mimetype": "text/x-python",
   "name": "python",
   "nbconvert_exporter": "python",
   "pygments_lexer": "ipython2",
   "version": "2.7.13"
  }
 },
 "nbformat": 4,
 "nbformat_minor": 2
}
