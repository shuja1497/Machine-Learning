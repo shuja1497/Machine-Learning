{
 "cells": [
  {
   "cell_type": "code",
   "execution_count": 4,
   "metadata": {},
   "outputs": [],
   "source": [
    "import numpy as np\n",
    "from matplotlib import pyplot as plt\n",
    "%matplotlib inline\n",
    "import pandas as pd\n",
    "import keras\n",
    "\n",
    "from keras.layers import Dense, Activation, Dropout\n",
    "from keras.models import Sequential\n",
    "from keras.utils import np_utils\n",
    "from keras import regularizers"
   ]
  },
  {
   "cell_type": "code",
   "execution_count": 6,
   "metadata": {},
   "outputs": [],
   "source": [
    "ds = pd.read_csv('train.csv')\n",
    "data = ds.values[:5000]\n"
   ]
  },
  {
   "cell_type": "code",
   "execution_count": 7,
   "metadata": {},
   "outputs": [
    {
     "name": "stdout",
     "output_type": "stream",
     "text": [
      "(5000, 784) (5000, 10)\n"
     ]
    }
   ],
   "source": [
    "X = data[:, 1:]/255.0\n",
    "y = np_utils.to_categorical(data[:, 0])\n",
    "\n",
    "print X.shape, y.shape"
   ]
  },
  {
   "cell_type": "code",
   "execution_count": 8,
   "metadata": {},
   "outputs": [
    {
     "name": "stdout",
     "output_type": "stream",
     "text": [
      "(4000, 784) (1000, 784)\n",
      "(4000, 10) (1000, 10)\n"
     ]
    }
   ],
   "source": [
    "split = int(0.8 * X.shape[0])\n",
    "\n",
    "X_train = X[:split]\n",
    "X_test = X[split:]\n",
    "\n",
    "y_train = y[:split]\n",
    "y_test = y[split:]\n",
    "\n",
    "print X_train.shape, X_test.shape\n",
    "print y_train.shape, y_test.shape"
   ]
  },
  {
   "cell_type": "code",
   "execution_count": 9,
   "metadata": {},
   "outputs": [
    {
     "name": "stdout",
     "output_type": "stream",
     "text": [
      "_________________________________________________________________\n",
      "Layer (type)                 Output Shape              Param #   \n",
      "=================================================================\n",
      "dense_1 (Dense)              (None, 430)               337550    \n",
      "_________________________________________________________________\n",
      "activation_1 (Activation)    (None, 430)               0         \n",
      "_________________________________________________________________\n",
      "dense_2 (Dense)              (None, 256)               110336    \n",
      "_________________________________________________________________\n",
      "activation_2 (Activation)    (None, 256)               0         \n",
      "_________________________________________________________________\n",
      "dense_3 (Dense)              (None, 148)               38036     \n",
      "_________________________________________________________________\n",
      "activation_3 (Activation)    (None, 148)               0         \n",
      "_________________________________________________________________\n",
      "dense_4 (Dense)              (None, 10)                1490      \n",
      "_________________________________________________________________\n",
      "activation_4 (Activation)    (None, 10)                0         \n",
      "=================================================================\n",
      "Total params: 487,412.0\n",
      "Trainable params: 487,412.0\n",
      "Non-trainable params: 0.0\n",
      "_________________________________________________________________\n"
     ]
    }
   ],
   "source": [
    "model = Sequential()\n",
    "act = 'relu'\n",
    "\n",
    "model.add(Dense(430, input_shape=(784,)))\n",
    "model.add(Activation(act))\n",
    "# model.add(Dropout(0.42))\n",
    "\n",
    "model.add(Dense(256))\n",
    "model.add(Activation(act))\n",
    "\n",
    "model.add(Dense(148))\n",
    "model.add(Activation(act))\n",
    "\n",
    "model.add(Dense(10))\n",
    "model.add(Activation('softmax'))\n",
    "\n",
    "model.compile(loss='categorical_crossentropy', optimizer='adam', metrics=['accuracy'])\n",
    "model.summary()"
   ]
  },
  {
   "cell_type": "code",
   "execution_count": 10,
   "metadata": {},
   "outputs": [
    {
     "name": "stdout",
     "output_type": "stream",
     "text": [
      "Train on 4000 samples, validate on 1000 samples\n",
      "Epoch 1/20\n",
      "0s - loss: 0.8385 - acc: 0.7665 - val_loss: 0.3492 - val_acc: 0.8880\n",
      "Epoch 2/20\n",
      "0s - loss: 0.2961 - acc: 0.9073 - val_loss: 0.3154 - val_acc: 0.9020\n",
      "Epoch 3/20\n",
      "0s - loss: 0.1787 - acc: 0.9455 - val_loss: 0.2409 - val_acc: 0.9250\n",
      "Epoch 4/20\n",
      "0s - loss: 0.1099 - acc: 0.9703 - val_loss: 0.2211 - val_acc: 0.9290\n",
      "Epoch 5/20\n",
      "0s - loss: 0.0681 - acc: 0.9835 - val_loss: 0.2117 - val_acc: 0.9360\n",
      "Epoch 6/20\n",
      "0s - loss: 0.0376 - acc: 0.9910 - val_loss: 0.2020 - val_acc: 0.9420\n",
      "Epoch 7/20\n",
      "0s - loss: 0.0232 - acc: 0.9965 - val_loss: 0.2122 - val_acc: 0.9390\n",
      "Epoch 8/20\n",
      "0s - loss: 0.0133 - acc: 0.9988 - val_loss: 0.2000 - val_acc: 0.9460\n",
      "Epoch 9/20\n",
      "0s - loss: 0.0080 - acc: 0.9998 - val_loss: 0.2013 - val_acc: 0.9490\n",
      "Epoch 10/20\n",
      "0s - loss: 0.0040 - acc: 1.0000 - val_loss: 0.2053 - val_acc: 0.9530\n",
      "Epoch 11/20\n",
      "0s - loss: 0.0025 - acc: 1.0000 - val_loss: 0.2041 - val_acc: 0.9530\n",
      "Epoch 12/20\n",
      "0s - loss: 0.0017 - acc: 1.0000 - val_loss: 0.2081 - val_acc: 0.9520\n",
      "Epoch 13/20\n",
      "0s - loss: 0.0013 - acc: 1.0000 - val_loss: 0.2105 - val_acc: 0.9530\n",
      "Epoch 14/20\n",
      "0s - loss: 0.0011 - acc: 1.0000 - val_loss: 0.2123 - val_acc: 0.9520\n",
      "Epoch 15/20\n",
      "0s - loss: 9.4145e-04 - acc: 1.0000 - val_loss: 0.2173 - val_acc: 0.9510\n",
      "Epoch 16/20\n",
      "0s - loss: 8.1320e-04 - acc: 1.0000 - val_loss: 0.2176 - val_acc: 0.9530\n",
      "Epoch 17/20\n",
      "0s - loss: 7.1014e-04 - acc: 1.0000 - val_loss: 0.2220 - val_acc: 0.9520\n",
      "Epoch 18/20\n",
      "0s - loss: 6.2649e-04 - acc: 1.0000 - val_loss: 0.2235 - val_acc: 0.9530\n",
      "Epoch 19/20\n",
      "0s - loss: 5.4844e-04 - acc: 1.0000 - val_loss: 0.2236 - val_acc: 0.9530\n",
      "Epoch 20/20\n",
      "0s - loss: 4.9175e-04 - acc: 1.0000 - val_loss: 0.2244 - val_acc: 0.9520\n"
     ]
    }
   ],
   "source": [
    "hist = model.fit(X_train, y_train,\n",
    "                epochs=20,\n",
    "                shuffle=True,\n",
    "                batch_size=100,\n",
    "                validation_data=(X_test, y_test), verbose=2)"
   ]
  },
  {
   "cell_type": "code",
   "execution_count": 11,
   "metadata": {},
   "outputs": [
    {
     "data": {
      "image/png": "[encoded data removed]",
      "text/plain": [
       "<matplotlib.figure.Figure at 0x7fa9bdcd45d0>"
      ]
     },
     "metadata": {},
     "output_type": "display_data"
    },
    {
     "data": {
      "image/png": "[encoded data removed]",
      "text/plain": [
       "<matplotlib.figure.Figure at 0x7fa9bdc77490>"
      ]
     },
     "metadata": {},
     "output_type": "display_data"
    }
   ],
   "source": [
    "h_data = hist.history\n",
    "\n",
    "plt.figure(0)\n",
    "plt.title('Losses')\n",
    "plt.plot(h_data['loss'], 'green')\n",
    "plt.plot(h_data['val_loss'], 'red')\n",
    "\n",
    "plt.figure(1)\n",
    "plt.title('Accuracies')\n",
    "plt.plot(h_data['acc'], 'green')\n",
    "plt.plot(h_data['val_acc'], 'red')\n",
    "\n",
    "plt.show()"
   ]
  },
  {
   "cell_type": "code",
   "execution_count": null,
   "metadata": {
    "collapsed": true
   },
   "outputs": [],
   "source": []
  }
 ],
 "metadata": {
  "kernelspec": {
   "display_name": "Python 2",
   "language": "python",
   "name": "python2"
  },
  "language_info": {
   "codemirror_mode": {
    "name": "ipython",
    "version": 2
   },
   "file_extension": ".py",
   "mimetype": "text/x-python",
   "name": "python",
   "nbconvert_exporter": "python",
   "pygments_lexer": "ipython2",
   "version": "2.7.13"
  }
 },
 "nbformat": 4,
 "nbformat_minor": 2
}
