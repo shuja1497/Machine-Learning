{
 "cells": [
  {
   "cell_type": "code",
   "execution_count": 2,
   "metadata": {},
   "outputs": [
    {
     "name": "stderr",
     "output_type": "stream",
     "text": [
      "Using TensorFlow backend.\n"
     ]
    }
   ],
   "source": [
    "import numpy as np\n",
    "from matplotlib import pyplot as plt \n",
    "import keras\n",
    "\n",
    "from keras.models import  Sequential\n",
    "from keras.layers import Activation, Dense\n",
    "from keras.utils import np_utils\n",
    "\n"
   ]
  },
  {
   "cell_type": "code",
   "execution_count": 3,
   "metadata": {},
   "outputs": [
    {
     "name": "stdout",
     "output_type": "stream",
     "text": [
      "(500, 2)\n",
      "(500, 2)\n"
     ]
    }
   ],
   "source": [
    "mean_01 = np.array([1, 1])\n",
    "cov_01 = np.array([[2.9, 1.4], [1.7, 1.5]])\n",
    "\n",
    "mean_02 = np.array([4, 7])\n",
    "cov_02 = np.array([[2, -0.7], [-0.7, 1.5]])\n",
    "\n",
    "data_01 = np.random.multivariate_normal(mean_01, cov_01, 500)\n",
    "data_02 = np.random.multivariate_normal(mean_02, cov_02, 500)\n",
    "print data_01.shape\n",
    "print data_02.shape"
   ]
  },
  {
   "cell_type": "code",
   "execution_count": 4,
   "metadata": {},
   "outputs": [
    {
     "data": {
      "image/png": "[encoded data removed]",
      "text/plain": [
       "<matplotlib.figure.Figure at 0x7f3bcd786bd0>"
      ]
     },
     "metadata": {},
     "output_type": "display_data"
    }
   ],
   "source": [
    "plt.figure(0)\n",
    "\n",
    "plt.scatter(data_01[:, 0], data_01[:, 1])\n",
    "plt.scatter(data_02[:, 0], data_02[:, 1], color='red')\n",
    "\n",
    "plt.show()\n"
   ]
  },
  {
   "cell_type": "code",
   "execution_count": 5,
   "metadata": {},
   "outputs": [
    {
     "name": "stdout",
     "output_type": "stream",
     "text": [
      "[[ 2.28691102  9.87978625  1.        ]\n",
      " [-0.82157682 -0.63130593  0.        ]\n",
      " [-1.36009622 -0.88287735  0.        ]\n",
      " [ 2.34902966  1.22876537  0.        ]\n",
      " [ 5.51040348  7.65954477  1.        ]\n",
      " [ 2.18685988  2.22309667  0.        ]\n",
      " [-1.12081277 -0.54388899  0.        ]\n",
      " [ 3.90981671  7.43062997  1.        ]\n",
      " [ 0.02652679  0.34345831  0.        ]\n",
      " [ 4.04852531  2.36666017  0.        ]]\n"
     ]
    }
   ],
   "source": [
    "all_data = np.zeros((1000, 3))\n",
    "\n",
    "all_data[:500, :2] = data_01\n",
    "\n",
    "all_data[500:, :2] = data_02\n",
    "all_data[500:, -1] = 1\n",
    "\n",
    "np.random.shuffle(all_data)\n",
    "print all_data[:10]"
   ]
  },
  {
   "cell_type": "code",
   "execution_count": 6,
   "metadata": {
    "scrolled": true
   },
   "outputs": [
    {
     "name": "stdout",
     "output_type": "stream",
     "text": [
      "(800, 3) (200, 3)\n",
      "(800,) (200,)\n",
      "[ 1.  0.  0.  0.  1.  0.  0.  1.  0.  0.]\n",
      "[ 0.  0.  1.  0.  0.  0.  0.  1.  1.  0.]\n",
      "--------------------------------------------------------------------------------\n",
      "(800, 2) (200, 2)\n",
      "(800, 2) (200, 2)\n",
      "[[ 0.  1.]\n",
      " [ 1.  0.]\n",
      " [ 1.  0.]\n",
      " [ 1.  0.]\n",
      " [ 0.  1.]\n",
      " [ 1.  0.]\n",
      " [ 1.  0.]\n",
      " [ 0.  1.]\n",
      " [ 1.  0.]\n",
      " [ 1.  0.]]\n",
      "[[ 1.  0.]\n",
      " [ 1.  0.]\n",
      " [ 0.  1.]\n",
      " [ 1.  0.]\n",
      " [ 1.  0.]\n",
      " [ 1.  0.]\n",
      " [ 1.  0.]\n",
      " [ 0.  1.]\n",
      " [ 0.  1.]\n",
      " [ 1.  0.]]\n"
     ]
    }
   ],
   "source": [
    "split = int(0.8 * all_data.shape[0])\n",
    "\n",
    "train = all_data[:split]\n",
    "test = all_data[split:]\n",
    "\n",
    "print train.shape, test.shape\n",
    "\n",
    "X_train = train[:, :-1]\n",
    "X_test = test[:, :-1]\n",
    "\n",
    "y_train = train[:,-1]# a vector \n",
    "y_test = test[:,-1]\n",
    "print y_train.shape, y_test.shape\n",
    "print y_train[:10]\n",
    "print y_test[:10]\n",
    "#Converts a class vector (integers) to binary class matrix.\n",
    "y_train = np_utils.to_categorical(train[:, -1])# now a matrix \n",
    "y_test = np_utils.to_categorical(test[:, -1])\n",
    "\n",
    "print '-'*80\n",
    "print X_train.shape, X_test.shape\n",
    "print y_train.shape, y_test.shape\n",
    "print y_train[:10]\n",
    "print y_test[:10]\n"
   ]
  },
  {
   "cell_type": "code",
   "execution_count": 7,
   "metadata": {
    "collapsed": true
   },
   "outputs": [],
   "source": [
    "np_utils.to_categorical?"
   ]
  },
  {
   "cell_type": "code",
   "execution_count": 8,
   "metadata": {},
   "outputs": [
    {
     "name": "stdout",
     "output_type": "stream",
     "text": [
      "_________________________________________________________________\n",
      "Layer (type)                 Output Shape              Param #   \n",
      "=================================================================\n",
      "dense_1 (Dense)              (None, 2)                 6         \n",
      "_________________________________________________________________\n",
      "activation_1 (Activation)    (None, 2)                 0         \n",
      "=================================================================\n",
      "Total params: 6.0\n",
      "Trainable params: 6.0\n",
      "Non-trainable params: 0.0\n",
      "_________________________________________________________________\n"
     ]
    }
   ],
   "source": [
    "# Netwoek Model \n",
    "model  = Sequential()\n",
    "# first layer must have a defined input shape\n",
    "# afterwards, Keras does automatic shape inference\n",
    "\n",
    "model.add(Dense(2, input_shape = (2,)))\n",
    "model.add(Activation('softmax'))\n",
    "#model.add(Activation('sigmoid'))# gives very less accuracy \n",
    "\n",
    "#Before training a model, you need to configure the learning process, which is done via the compile method. It receives three arguments:\n",
    "model.compile(loss='categorical_crossentropy', optimizer='sgd', metrics=['accuracy'])\n",
    "model.summary()"
   ]
  },
  {
   "cell_type": "code",
   "execution_count": 9,
   "metadata": {
    "scrolled": true
   },
   "outputs": [
    {
     "name": "stdout",
     "output_type": "stream",
     "text": [
      "Train on 800 samples, validate on 200 samples\n",
      "Epoch 1/50\n",
      "0s - loss: 0.5945 - acc: 0.6388 - val_loss: 0.5807 - val_acc: 0.6200\n",
      "Epoch 2/50\n",
      "0s - loss: 0.5347 - acc: 0.6675 - val_loss: 0.5320 - val_acc: 0.6400\n",
      "Epoch 3/50\n",
      "0s - loss: 0.4900 - acc: 0.6875 - val_loss: 0.4937 - val_acc: 0.6800\n",
      "Epoch 4/50\n",
      "0s - loss: 0.4540 - acc: 0.7075 - val_loss: 0.4615 - val_acc: 0.6950\n",
      "Epoch 5/50\n",
      "0s - loss: 0.4242 - acc: 0.7325 - val_loss: 0.4320 - val_acc: 0.7150\n",
      "Epoch 6/50\n",
      "0s - loss: 0.3990 - acc: 0.7838 - val_loss: 0.4087 - val_acc: 0.7750\n",
      "Epoch 7/50\n",
      "0s - loss: 0.3774 - acc: 0.8263 - val_loss: 0.3890 - val_acc: 0.8050\n",
      "Epoch 8/50\n",
      "0s - loss: 0.3587 - acc: 0.8488 - val_loss: 0.3710 - val_acc: 0.8550\n",
      "Epoch 9/50\n",
      "0s - loss: 0.3423 - acc: 0.8687 - val_loss: 0.3550 - val_acc: 0.8700\n",
      "Epoch 10/50\n",
      "0s - loss: 0.3279 - acc: 0.8837 - val_loss: 0.3404 - val_acc: 0.8750\n",
      "Epoch 11/50\n",
      "0s - loss: 0.3149 - acc: 0.9062 - val_loss: 0.3281 - val_acc: 0.8850\n",
      "Epoch 12/50\n",
      "0s - loss: 0.3030 - acc: 0.9163 - val_loss: 0.3166 - val_acc: 0.8950\n",
      "Epoch 13/50\n",
      "0s - loss: 0.2920 - acc: 0.9288 - val_loss: 0.3064 - val_acc: 0.9050\n",
      "Epoch 14/50\n",
      "0s - loss: 0.2821 - acc: 0.9325 - val_loss: 0.2961 - val_acc: 0.9150\n",
      "Epoch 15/50\n",
      "0s - loss: 0.2731 - acc: 0.9487 - val_loss: 0.2870 - val_acc: 0.9300\n",
      "Epoch 16/50\n",
      "0s - loss: 0.2645 - acc: 0.9537 - val_loss: 0.2788 - val_acc: 0.9400\n",
      "Epoch 17/50\n",
      "0s - loss: 0.2567 - acc: 0.9563 - val_loss: 0.2711 - val_acc: 0.9500\n",
      "Epoch 18/50\n",
      "0s - loss: 0.2493 - acc: 0.9612 - val_loss: 0.2634 - val_acc: 0.9600\n",
      "Epoch 19/50\n",
      "0s - loss: 0.2425 - acc: 0.9612 - val_loss: 0.2565 - val_acc: 0.9700\n",
      "Epoch 20/50\n",
      "0s - loss: 0.2361 - acc: 0.9662 - val_loss: 0.2504 - val_acc: 0.9650\n",
      "Epoch 21/50\n",
      "0s - loss: 0.2300 - acc: 0.9675 - val_loss: 0.2444 - val_acc: 0.9700\n",
      "Epoch 22/50\n",
      "0s - loss: 0.2242 - acc: 0.9675 - val_loss: 0.2385 - val_acc: 0.9700\n",
      "Epoch 23/50\n",
      "0s - loss: 0.2189 - acc: 0.9700 - val_loss: 0.2332 - val_acc: 0.9700\n",
      "Epoch 24/50\n",
      "0s - loss: 0.2138 - acc: 0.9713 - val_loss: 0.2279 - val_acc: 0.9700\n",
      "Epoch 25/50\n",
      "0s - loss: 0.2090 - acc: 0.9725 - val_loss: 0.2229 - val_acc: 0.9700\n",
      "Epoch 26/50\n",
      "0s - loss: 0.2045 - acc: 0.9750 - val_loss: 0.2183 - val_acc: 0.9700\n",
      "Epoch 27/50\n",
      "0s - loss: 0.2000 - acc: 0.9750 - val_loss: 0.2142 - val_acc: 0.9700\n",
      "Epoch 28/50\n",
      "0s - loss: 0.1960 - acc: 0.9750 - val_loss: 0.2098 - val_acc: 0.9700\n",
      "Epoch 29/50\n",
      "0s - loss: 0.1921 - acc: 0.9750 - val_loss: 0.2059 - val_acc: 0.9700\n",
      "Epoch 30/50\n",
      "0s - loss: 0.1883 - acc: 0.9750 - val_loss: 0.2020 - val_acc: 0.9700\n",
      "Epoch 31/50\n",
      "0s - loss: 0.1846 - acc: 0.9750 - val_loss: 0.1980 - val_acc: 0.9750\n",
      "Epoch 32/50\n",
      "0s - loss: 0.1812 - acc: 0.9750 - val_loss: 0.1945 - val_acc: 0.9750\n",
      "Epoch 33/50\n",
      "0s - loss: 0.1780 - acc: 0.9750 - val_loss: 0.1913 - val_acc: 0.9750\n",
      "Epoch 34/50\n",
      "0s - loss: 0.1748 - acc: 0.9750 - val_loss: 0.1882 - val_acc: 0.9750\n",
      "Epoch 35/50\n",
      "0s - loss: 0.1718 - acc: 0.9763 - val_loss: 0.1851 - val_acc: 0.9800\n",
      "Epoch 36/50\n",
      "0s - loss: 0.1690 - acc: 0.9750 - val_loss: 0.1820 - val_acc: 0.9800\n",
      "Epoch 37/50\n",
      "0s - loss: 0.1662 - acc: 0.9800 - val_loss: 0.1792 - val_acc: 0.9800\n",
      "Epoch 38/50\n",
      "0s - loss: 0.1634 - acc: 0.9750 - val_loss: 0.1763 - val_acc: 0.9800\n",
      "Epoch 39/50\n",
      "0s - loss: 0.1609 - acc: 0.9800 - val_loss: 0.1737 - val_acc: 0.9800\n",
      "Epoch 40/50\n",
      "0s - loss: 0.1585 - acc: 0.9838 - val_loss: 0.1712 - val_acc: 0.9800\n",
      "Epoch 41/50\n",
      "0s - loss: 0.1560 - acc: 0.9825 - val_loss: 0.1688 - val_acc: 0.9800\n",
      "Epoch 42/50\n",
      "0s - loss: 0.1538 - acc: 0.9850 - val_loss: 0.1664 - val_acc: 0.9800\n",
      "Epoch 43/50\n",
      "0s - loss: 0.1514 - acc: 0.9850 - val_loss: 0.1642 - val_acc: 0.9800\n",
      "Epoch 44/50\n",
      "0s - loss: 0.1495 - acc: 0.9850 - val_loss: 0.1619 - val_acc: 0.9800\n",
      "Epoch 45/50\n",
      "0s - loss: 0.1474 - acc: 0.9862 - val_loss: 0.1597 - val_acc: 0.9800\n",
      "Epoch 46/50\n",
      "0s - loss: 0.1453 - acc: 0.9850 - val_loss: 0.1575 - val_acc: 0.9800\n",
      "Epoch 47/50\n",
      "0s - loss: 0.1433 - acc: 0.9862 - val_loss: 0.1556 - val_acc: 0.9800\n",
      "Epoch 48/50\n",
      "0s - loss: 0.1414 - acc: 0.9862 - val_loss: 0.1535 - val_acc: 0.9800\n",
      "Epoch 49/50\n",
      "0s - loss: 0.1396 - acc: 0.9875 - val_loss: 0.1517 - val_acc: 0.9800\n",
      "Epoch 50/50\n",
      "0s - loss: 0.1379 - acc: 0.9862 - val_loss: 0.1497 - val_acc: 0.9800\n"
     ]
    }
   ],
   "source": [
    "hist = model.fit(X_train, y_train,\n",
    "                epochs=50,\n",
    "                shuffle=True,\n",
    "                validation_data=(X_test, y_test), verbose=2)"
   ]
  },
  {
   "cell_type": "code",
   "execution_count": null,
   "metadata": {
    "collapsed": true
   },
   "outputs": [],
   "source": []
  },
  {
   "cell_type": "code",
   "execution_count": null,
   "metadata": {
    "collapsed": true
   },
   "outputs": [],
   "source": []
  },
  {
   "cell_type": "code",
   "execution_count": null,
   "metadata": {
    "collapsed": true
   },
   "outputs": [],
   "source": []
  },
  {
   "cell_type": "code",
   "execution_count": 10,
   "metadata": {
    "scrolled": false
   },
   "outputs": [
    {
     "data": {
      "image/png": "[encoded data removed]",
      "text/plain": [
       "<matplotlib.figure.Figure at 0x7f3bcaa46250>"
      ]
     },
     "metadata": {},
     "output_type": "display_data"
    },
    {
     "data": {
      "image/png": "[encoded data removed]",
      "text/plain": [
       "<matplotlib.figure.Figure at 0x7f3bd36f3e10>"
      ]
     },
     "metadata": {},
     "output_type": "display_data"
    }
   ],
   "source": [
    "h_data = hist.history\n",
    "# we can check accuracy with increasing epochs \n",
    "plt.figure(0)\n",
    "plt.title('Losses')\n",
    "plt.plot(h_data['loss'], 'green')\n",
    "plt.plot(h_data['val_loss'], 'red')\n",
    "\n",
    "plt.figure(1)\n",
    "plt.title('Accuracies')\n",
    "plt.plot(h_data['acc'], 'green')\n",
    "plt.plot(h_data['val_acc'], 'red')\n",
    "\n",
    "plt.show()\n",
    "\n"
   ]
  },
  {
   "cell_type": "markdown",
   "metadata": {},
   "source": [
    "# moons dataset from sklearn"
   ]
  },
  {
   "cell_type": "code",
   "execution_count": 11,
   "metadata": {
    "collapsed": true
   },
   "outputs": [],
   "source": [
    "import sklearn\n",
    "from sklearn.datasets import make_moons"
   ]
  },
  {
   "cell_type": "code",
   "execution_count": 12,
   "metadata": {
    "collapsed": true
   },
   "outputs": [],
   "source": [
    "x,y = make_moons(n_samples=1000)"
   ]
  },
  {
   "cell_type": "code",
   "execution_count": 13,
   "metadata": {},
   "outputs": [
    {
     "name": "stdout",
     "output_type": "stream",
     "text": [
      "[[-0.40078488  0.91617219]\n",
      " [ 0.71924261  0.694759  ]\n",
      " [ 1.54999593 -0.33516734]\n",
      " ..., \n",
      " [ 0.84014643 -0.48714074]\n",
      " [-0.8990086   0.43793098]\n",
      " [-0.55524302  0.83168816]]\n"
     ]
    }
   ],
   "source": [
    "print x \n"
   ]
  },
  {
   "cell_type": "code",
   "execution_count": 14,
   "metadata": {},
   "outputs": [
    {
     "data": {
      "image/png": "[encoded data removed]",
      "text/plain": [
       "<matplotlib.figure.Figure at 0x7f3b79372450>"
      ]
     },
     "metadata": {},
     "output_type": "display_data"
    }
   ],
   "source": [
    "plt.scatter(x[:,0],x[:,1])\n",
    "plt.show()"
   ]
  },
  {
   "cell_type": "code",
   "execution_count": 15,
   "metadata": {
    "scrolled": true
   },
   "outputs": [
    {
     "name": "stdout",
     "output_type": "stream",
     "text": [
      "[0 0 1 1 0 0 1 0 0 1 1 1 1 0 1 0 1 0 0 1 0 0 0 0 1 1 0 0 0 1 0 1 1 0 0 0 0\n",
      " 1 1 1 0 0 1 0 1 0 1 0 1 0 0 1 1 1 1 1 1 0 1 1 0 1 1 1 0 1 1 1 1 1 1 1 0 0\n",
      " 1 1 1 1 0 1 0 0 1 0 0 0 0 1 0 1 0 1 1 0 1 1 0 1 0 0 0 0 0 0 1 0 1 1 0 0 1\n",
      " 0 1 0 1 0 0 0 0 1 1 0 0 1 1 1 0 1 0 1 1 1 0 1 0 1 0 1 0 0 1 1 1 1 1 0 1 0\n",
      " 0 1 1 1 1 0 1 1 1 1 0 1 0 0 0 1 0 0 0 1 0 0 1 0 1 1 0 0 0 0 1 0 0 1 1 0 1\n",
      " 1 0 0 0 0 0 1 1 1 0 0 1 1 1 1 1 0 0 1 0 1 1 0 0 0 1 1 1 1 0 1 0 0 1 0 1 1\n",
      " 0 1 0 0 1 0 0 0 1 1 0 0 1 1 0 1 0 1 1 1 0 1 1 0 0 1 0 0 0 1 1 1 1 0 1 1 0\n",
      " 0 0 1 1 1 0 0 0 1 1 0 0 0 0 0 1 1 0 0 1 1 1 1 0 1 1 0 1 1 1 0 0 1 0 0 1 0\n",
      " 1 0 0 0 0 0 1 0 0 0 1 1 1 1 1 0 0 0 0 0 1 1 1 0 1 0 1 0 0 1 1 0 1 1 0 0 1\n",
      " 0 1 1 1 1 1 0 0 1 0 0 1 1 1 1 0 0 1 0 0 0 0 0 1 1 0 0 0 1 1 0 0 0 0 1 0 1\n",
      " 1 0 0 1 0 1 0 1 0 1 0 0 1 0 1 1 1 1 0 0 1 1 0 0 0 0 1 0 0 1 1 1 1 0 0 0 0\n",
      " 1 0 0 1 1 0 0 1 0 1 0 0 0 1 0 1 0 1 0 1 0 1 1 0 1 0 1 1 1 0 1 1 1 0 1 0 0\n",
      " 1 1 0 0 0 0 1 1 1 1 0 1 0 0 0 1 0 1 1 0 0 1 0 0 1 1 0 1 1 0 1 1 1 0 0 0 1\n",
      " 1 0 0 0 1 0 1 0 1 1 1 1 0 1 1 0 0 1 0 0 0 1 1 1 1 0 1 0 1 1 1 1 1 0 1 0 0\n",
      " 0 1 0 1 0 0 1 0 1 1 1 0 1 0 1 0 0 0 0 0 0 0 0 0 1 1 1 0 1 0 1 1 1 1 0 1 0\n",
      " 0 0 1 0 0 0 0 1 0 0 1 0 0 1 0 1 0 0 0 0 1 0 1 1 1 0 1 0 1 1 0 0 1 1 1 1 0\n",
      " 1 0 0 0 0 0 1 0 1 1 0 0 1 1 0 1 0 0 0 1 1 0 0 0 0 1 1 1 0 1 1 0 1 1 0 0 0\n",
      " 0 1 1 1 0 1 1 1 1 1 0 0 1 1 1 1 0 1 0 1 0 1 1 1 1 1 1 0 1 0 1 1 1 1 1 0 0\n",
      " 0 0 1 1 0 1 1 0 0 0 0 1 1 1 0 0 0 0 1 0 0 1 1 0 0 1 0 1 1 0 1 0 1 1 1 1 1\n",
      " 1 1 1 0 0 0 0 0 1 0 0 1 1 0 1 0 0 0 1 0 0 0 0 1 0 0 0 1 0 1 1 0 0 1 0 0 1\n",
      " 1 0 0 0 0 1 0 0 1 1 1 1 1 1 1 1 0 0 1 0 1 0 0 1 1 1 0 0 1 0 1 0 1 1 0 0 1\n",
      " 0 1 1 0 0 1 0 0 0 0 1 1 0 0 1 1 1 1 1 0 1 0 0 0 0 1 1 0 0 0 1 1 0 0 1 1 0\n",
      " 0 0 1 1 1 1 1 1 0 0 0 1 0 0 1 0 0 0 1 1 0 1 0 1 1 0 1 0 1 0 0 0 0 0 1 1 1\n",
      " 0 0 0 0 1 0 0 0 1 0 0 1 0 1 1 0 1 1 0 1 1 1 1 0 1 1 1 1 1 0 0 0 1 0 1 0 1\n",
      " 1 0 0 1 0 1 1 1 0 0 0 1 1 0 0 1 0 0 0 1 0 0 1 0 1 1 0 0 1 1 0 1 0 1 1 0 0\n",
      " 1 1 1 0 1 0 0 1 1 1 0 1 1 0 1 0 0 1 1 1 1 0 0 0 1 0 0 1 1 1 1 0 1 0 1 0 1\n",
      " 0 1 1 0 1 0 0 1 1 0 1 1 0 0 0 0 0 1 0 0 0 1 0 1 1 0 0 0 1 1 1 1 1 0 0 1 0\n",
      " 0]\n"
     ]
    }
   ],
   "source": [
    "print y\n"
   ]
  },
  {
   "cell_type": "code",
   "execution_count": 16,
   "metadata": {},
   "outputs": [
    {
     "name": "stdout",
     "output_type": "stream",
     "text": [
      "[[ 1.  0.]\n",
      " [ 1.  0.]\n",
      " [ 0.  1.]\n",
      " ..., \n",
      " [ 0.  1.]\n",
      " [ 1.  0.]\n",
      " [ 1.  0.]]\n"
     ]
    }
   ],
   "source": [
    " y = np_utils.to_categorical(y)\n",
    "print y"
   ]
  },
  {
   "cell_type": "code",
   "execution_count": 17,
   "metadata": {
    "collapsed": true
   },
   "outputs": [],
   "source": [
    "x,y  = make_moons(n_samples=1000, noise=0.1,shuffle=True)"
   ]
  },
  {
   "cell_type": "code",
   "execution_count": 18,
   "metadata": {},
   "outputs": [
    {
     "data": {
      "image/png": "[encoded data removed]",
      "text/plain": [
       "<matplotlib.figure.Figure at 0x7f3b78e6cf50>"
      ]
     },
     "metadata": {},
     "output_type": "display_data"
    }
   ],
   "source": [
    "plt.figure(0)\n",
    "y = np_utils.to_categorical(y)\n",
    "plt.scatter(x[:,0],x[:,1])\n",
    "plt.show()\n"
   ]
  },
  {
   "cell_type": "code",
   "execution_count": 31,
   "metadata": {},
   "outputs": [
    {
     "name": "stdout",
     "output_type": "stream",
     "text": [
      "_________________________________________________________________\n",
      "Layer (type)                 Output Shape              Param #   \n",
      "=================================================================\n",
      "dense_5 (Dense)              (None, 3)                 9         \n",
      "_________________________________________________________________\n",
      "activation_5 (Activation)    (None, 3)                 0         \n",
      "_________________________________________________________________\n",
      "dense_6 (Dense)              (None, 2)                 8         \n",
      "_________________________________________________________________\n",
      "activation_6 (Activation)    (None, 2)                 0         \n",
      "_________________________________________________________________\n",
      "dense_7 (Dense)              (None, 2)                 6         \n",
      "_________________________________________________________________\n",
      "activation_7 (Activation)    (None, 2)                 0         \n",
      "=================================================================\n",
      "Total params: 23.0\n",
      "Trainable params: 23.0\n",
      "Non-trainable params: 0.0\n",
      "_________________________________________________________________\n"
     ]
    }
   ],
   "source": [
    "model = Sequential()\n",
    "\n",
    "model.add(Dense(3, input_shape=(2,)))\n",
    "model.add(Activation('sigmoid'))\n",
    "\n",
    "model.add(Dense(2))\n",
    "model.add(Activation('sigmoid'))\n",
    "\n",
    "model.add(Dense(2))\n",
    "model.add(Activation('softmax'))\n",
    "\n",
    "model.compile(loss='categorical_crossentropy', optimizer='adam', metrics=['accuracy'])\n",
    "model.summary()"
   ]
  },
  {
   "cell_type": "code",
   "execution_count": 32,
   "metadata": {
    "scrolled": true
   },
   "outputs": [
    {
     "name": "stdout",
     "output_type": "stream",
     "text": [
      "Train on 800 samples, validate on 200 samples\n",
      "Epoch 1/100\n",
      "0s - loss: 0.7999 - acc: 0.5038 - val_loss: 0.8025 - val_acc: 0.4850\n",
      "Epoch 2/100\n",
      "0s - loss: 0.7765 - acc: 0.5038 - val_loss: 0.7785 - val_acc: 0.4850\n",
      "Epoch 3/100\n",
      "0s - loss: 0.7559 - acc: 0.5038 - val_loss: 0.7595 - val_acc: 0.4850\n",
      "Epoch 4/100\n",
      "0s - loss: 0.7403 - acc: 0.5038 - val_loss: 0.7423 - val_acc: 0.4850\n",
      "Epoch 5/100\n",
      "0s - loss: 0.7268 - acc: 0.5038 - val_loss: 0.7292 - val_acc: 0.4850\n",
      "Epoch 6/100\n",
      "0s - loss: 0.7162 - acc: 0.5038 - val_loss: 0.7190 - val_acc: 0.4850\n",
      "Epoch 7/100\n",
      "0s - loss: 0.7079 - acc: 0.5038 - val_loss: 0.7104 - val_acc: 0.4850\n",
      "Epoch 8/100\n",
      "0s - loss: 0.7013 - acc: 0.5038 - val_loss: 0.7031 - val_acc: 0.4850\n",
      "Epoch 9/100\n",
      "0s - loss: 0.6959 - acc: 0.5038 - val_loss: 0.6973 - val_acc: 0.4850\n",
      "Epoch 10/100\n",
      "0s - loss: 0.6913 - acc: 0.5038 - val_loss: 0.6930 - val_acc: 0.4850\n",
      "Epoch 11/100\n",
      "0s - loss: 0.6877 - acc: 0.5038 - val_loss: 0.6888 - val_acc: 0.4850\n",
      "Epoch 12/100\n",
      "0s - loss: 0.6844 - acc: 0.5038 - val_loss: 0.6851 - val_acc: 0.4850\n",
      "Epoch 13/100\n",
      "0s - loss: 0.6814 - acc: 0.5038 - val_loss: 0.6819 - val_acc: 0.4850\n",
      "Epoch 14/100\n",
      "0s - loss: 0.6787 - acc: 0.5038 - val_loss: 0.6788 - val_acc: 0.4850\n",
      "Epoch 15/100\n",
      "0s - loss: 0.6759 - acc: 0.5050 - val_loss: 0.6759 - val_acc: 0.4850\n",
      "Epoch 16/100\n",
      "0s - loss: 0.6732 - acc: 0.5200 - val_loss: 0.6731 - val_acc: 0.5400\n",
      "Epoch 17/100\n",
      "0s - loss: 0.6705 - acc: 0.6650 - val_loss: 0.6700 - val_acc: 0.6900\n",
      "Epoch 18/100\n",
      "0s - loss: 0.6678 - acc: 0.7863 - val_loss: 0.6666 - val_acc: 0.8200\n",
      "Epoch 19/100\n",
      "0s - loss: 0.6646 - acc: 0.8050 - val_loss: 0.6638 - val_acc: 0.8000\n",
      "Epoch 20/100\n",
      "0s - loss: 0.6614 - acc: 0.8412 - val_loss: 0.6603 - val_acc: 0.8500\n",
      "Epoch 21/100\n",
      "0s - loss: 0.6581 - acc: 0.8425 - val_loss: 0.6568 - val_acc: 0.8600\n",
      "Epoch 22/100\n",
      "0s - loss: 0.6546 - acc: 0.8450 - val_loss: 0.6531 - val_acc: 0.8450\n",
      "Epoch 23/100\n",
      "0s - loss: 0.6512 - acc: 0.8425 - val_loss: 0.6494 - val_acc: 0.8500\n",
      "Epoch 24/100\n",
      "0s - loss: 0.6472 - acc: 0.8387 - val_loss: 0.6450 - val_acc: 0.8450\n",
      "Epoch 25/100\n",
      "0s - loss: 0.6428 - acc: 0.8387 - val_loss: 0.6408 - val_acc: 0.8450\n",
      "Epoch 26/100\n",
      "0s - loss: 0.6384 - acc: 0.8412 - val_loss: 0.6362 - val_acc: 0.8450\n",
      "Epoch 27/100\n",
      "0s - loss: 0.6338 - acc: 0.8375 - val_loss: 0.6314 - val_acc: 0.8400\n",
      "Epoch 28/100\n",
      "0s - loss: 0.6290 - acc: 0.8275 - val_loss: 0.6260 - val_acc: 0.8400\n",
      "Epoch 29/100\n",
      "0s - loss: 0.6237 - acc: 0.8313 - val_loss: 0.6208 - val_acc: 0.8400\n",
      "Epoch 30/100\n",
      "0s - loss: 0.6180 - acc: 0.8225 - val_loss: 0.6150 - val_acc: 0.8400\n",
      "Epoch 31/100\n",
      "0s - loss: 0.6121 - acc: 0.8237 - val_loss: 0.6089 - val_acc: 0.8350\n",
      "Epoch 32/100\n",
      "0s - loss: 0.6060 - acc: 0.8212 - val_loss: 0.6025 - val_acc: 0.8300\n",
      "Epoch 33/100\n",
      "0s - loss: 0.5995 - acc: 0.8175 - val_loss: 0.5958 - val_acc: 0.8300\n",
      "Epoch 34/100\n",
      "0s - loss: 0.5928 - acc: 0.8175 - val_loss: 0.5890 - val_acc: 0.8300\n",
      "Epoch 35/100\n",
      "0s - loss: 0.5858 - acc: 0.8175 - val_loss: 0.5815 - val_acc: 0.8300\n",
      "Epoch 36/100\n",
      "0s - loss: 0.5784 - acc: 0.8200 - val_loss: 0.5739 - val_acc: 0.8300\n",
      "Epoch 37/100\n",
      "0s - loss: 0.5711 - acc: 0.8200 - val_loss: 0.5662 - val_acc: 0.8300\n",
      "Epoch 38/100\n",
      "0s - loss: 0.5632 - acc: 0.8188 - val_loss: 0.5583 - val_acc: 0.8300\n",
      "Epoch 39/100\n",
      "0s - loss: 0.5553 - acc: 0.8200 - val_loss: 0.5503 - val_acc: 0.8300\n",
      "Epoch 40/100\n",
      "0s - loss: 0.5473 - acc: 0.8175 - val_loss: 0.5424 - val_acc: 0.8300\n",
      "Epoch 41/100\n",
      "0s - loss: 0.5393 - acc: 0.8200 - val_loss: 0.5341 - val_acc: 0.8300\n",
      "Epoch 42/100\n",
      "0s - loss: 0.5310 - acc: 0.8188 - val_loss: 0.5259 - val_acc: 0.8300\n",
      "Epoch 43/100\n",
      "0s - loss: 0.5230 - acc: 0.8212 - val_loss: 0.5176 - val_acc: 0.8250\n",
      "Epoch 44/100\n",
      "0s - loss: 0.5150 - acc: 0.8188 - val_loss: 0.5095 - val_acc: 0.8250\n",
      "Epoch 45/100\n",
      "0s - loss: 0.5069 - acc: 0.8200 - val_loss: 0.5019 - val_acc: 0.8300\n",
      "Epoch 46/100\n",
      "0s - loss: 0.4991 - acc: 0.8237 - val_loss: 0.4937 - val_acc: 0.8250\n",
      "Epoch 47/100\n",
      "0s - loss: 0.4913 - acc: 0.8237 - val_loss: 0.4860 - val_acc: 0.8250\n",
      "Epoch 48/100\n",
      "0s - loss: 0.4837 - acc: 0.8250 - val_loss: 0.4788 - val_acc: 0.8300\n",
      "Epoch 49/100\n",
      "0s - loss: 0.4762 - acc: 0.8263 - val_loss: 0.4710 - val_acc: 0.8250\n",
      "Epoch 50/100\n",
      "0s - loss: 0.4689 - acc: 0.8250 - val_loss: 0.4640 - val_acc: 0.8250\n",
      "Epoch 51/100\n",
      "0s - loss: 0.4618 - acc: 0.8263 - val_loss: 0.4568 - val_acc: 0.8250\n",
      "Epoch 52/100\n",
      "0s - loss: 0.4550 - acc: 0.8263 - val_loss: 0.4503 - val_acc: 0.8250\n",
      "Epoch 53/100\n",
      "0s - loss: 0.4484 - acc: 0.8275 - val_loss: 0.4436 - val_acc: 0.8250\n",
      "Epoch 54/100\n",
      "0s - loss: 0.4420 - acc: 0.8287 - val_loss: 0.4376 - val_acc: 0.8300\n",
      "Epoch 55/100\n",
      "0s - loss: 0.4356 - acc: 0.8287 - val_loss: 0.4313 - val_acc: 0.8250\n",
      "Epoch 56/100\n",
      "0s - loss: 0.4296 - acc: 0.8325 - val_loss: 0.4252 - val_acc: 0.8250\n",
      "Epoch 57/100\n",
      "0s - loss: 0.4237 - acc: 0.8325 - val_loss: 0.4197 - val_acc: 0.8300\n",
      "Epoch 58/100\n",
      "0s - loss: 0.4182 - acc: 0.8362 - val_loss: 0.4143 - val_acc: 0.8300\n",
      "Epoch 59/100\n",
      "0s - loss: 0.4128 - acc: 0.8375 - val_loss: 0.4094 - val_acc: 0.8300\n",
      "Epoch 60/100\n",
      "0s - loss: 0.4076 - acc: 0.8387 - val_loss: 0.4041 - val_acc: 0.8350\n",
      "Epoch 61/100\n",
      "0s - loss: 0.4023 - acc: 0.8412 - val_loss: 0.3993 - val_acc: 0.8350\n",
      "Epoch 62/100\n",
      "0s - loss: 0.3975 - acc: 0.8412 - val_loss: 0.3948 - val_acc: 0.8350\n",
      "Epoch 63/100\n",
      "0s - loss: 0.3928 - acc: 0.8438 - val_loss: 0.3901 - val_acc: 0.8350\n",
      "Epoch 64/100\n",
      "0s - loss: 0.3882 - acc: 0.8425 - val_loss: 0.3860 - val_acc: 0.8350\n",
      "Epoch 65/100\n",
      "0s - loss: 0.3838 - acc: 0.8450 - val_loss: 0.3817 - val_acc: 0.8350\n",
      "Epoch 66/100\n",
      "0s - loss: 0.3797 - acc: 0.8450 - val_loss: 0.3780 - val_acc: 0.8350\n",
      "Epoch 67/100\n",
      "0s - loss: 0.3753 - acc: 0.8450 - val_loss: 0.3742 - val_acc: 0.8350\n",
      "Epoch 68/100\n",
      "0s - loss: 0.3715 - acc: 0.8463 - val_loss: 0.3701 - val_acc: 0.8350\n",
      "Epoch 69/100\n",
      "0s - loss: 0.3675 - acc: 0.8488 - val_loss: 0.3666 - val_acc: 0.8350\n",
      "Epoch 70/100\n",
      "0s - loss: 0.3637 - acc: 0.8500 - val_loss: 0.3633 - val_acc: 0.8350\n",
      "Epoch 71/100\n",
      "0s - loss: 0.3601 - acc: 0.8513 - val_loss: 0.3598 - val_acc: 0.8350\n",
      "Epoch 72/100\n",
      "0s - loss: 0.3566 - acc: 0.8525 - val_loss: 0.3568 - val_acc: 0.8350\n",
      "Epoch 73/100\n",
      "0s - loss: 0.3532 - acc: 0.8538 - val_loss: 0.3535 - val_acc: 0.8350\n",
      "Epoch 74/100\n",
      "0s - loss: 0.3498 - acc: 0.8550 - val_loss: 0.3505 - val_acc: 0.8350\n",
      "Epoch 75/100\n",
      "0s - loss: 0.3466 - acc: 0.8562 - val_loss: 0.3478 - val_acc: 0.8350\n",
      "Epoch 76/100\n",
      "0s - loss: 0.3434 - acc: 0.8588 - val_loss: 0.3451 - val_acc: 0.8450\n",
      "Epoch 77/100\n",
      "0s - loss: 0.3404 - acc: 0.8600 - val_loss: 0.3424 - val_acc: 0.8450\n",
      "Epoch 78/100\n",
      "0s - loss: 0.3376 - acc: 0.8612 - val_loss: 0.3398 - val_acc: 0.8450\n",
      "Epoch 79/100\n",
      "0s - loss: 0.3347 - acc: 0.8612 - val_loss: 0.3375 - val_acc: 0.8450\n",
      "Epoch 80/100\n",
      "0s - loss: 0.3322 - acc: 0.8625 - val_loss: 0.3348 - val_acc: 0.8500\n",
      "Epoch 81/100\n",
      "0s - loss: 0.3293 - acc: 0.8638 - val_loss: 0.3328 - val_acc: 0.8500\n",
      "Epoch 82/100\n",
      "0s - loss: 0.3268 - acc: 0.8663 - val_loss: 0.3307 - val_acc: 0.8500\n",
      "Epoch 83/100\n",
      "0s - loss: 0.3244 - acc: 0.8663 - val_loss: 0.3286 - val_acc: 0.8500\n",
      "Epoch 84/100\n",
      "0s - loss: 0.3220 - acc: 0.8675 - val_loss: 0.3265 - val_acc: 0.8500\n",
      "Epoch 85/100\n",
      "0s - loss: 0.3197 - acc: 0.8675 - val_loss: 0.3246 - val_acc: 0.8550\n",
      "Epoch 86/100\n",
      "0s - loss: 0.3176 - acc: 0.8687 - val_loss: 0.3229 - val_acc: 0.8600\n",
      "Epoch 87/100\n",
      "0s - loss: 0.3155 - acc: 0.8675 - val_loss: 0.3212 - val_acc: 0.8600\n",
      "Epoch 88/100\n",
      "0s - loss: 0.3133 - acc: 0.8687 - val_loss: 0.3196 - val_acc: 0.8600\n",
      "Epoch 89/100\n",
      "0s - loss: 0.3114 - acc: 0.8687 - val_loss: 0.3179 - val_acc: 0.8650\n",
      "Epoch 90/100\n",
      "0s - loss: 0.3096 - acc: 0.8687 - val_loss: 0.3164 - val_acc: 0.8650\n",
      "Epoch 91/100\n",
      "0s - loss: 0.3077 - acc: 0.8700 - val_loss: 0.3149 - val_acc: 0.8650\n",
      "Epoch 92/100\n",
      "0s - loss: 0.3060 - acc: 0.8700 - val_loss: 0.3135 - val_acc: 0.8650\n",
      "Epoch 93/100\n",
      "0s - loss: 0.3046 - acc: 0.8725 - val_loss: 0.3125 - val_acc: 0.8650\n",
      "Epoch 94/100\n",
      "0s - loss: 0.3029 - acc: 0.8712 - val_loss: 0.3110 - val_acc: 0.8700\n",
      "Epoch 95/100\n",
      "0s - loss: 0.3012 - acc: 0.8712 - val_loss: 0.3099 - val_acc: 0.8700\n",
      "Epoch 96/100\n",
      "0s - loss: 0.2999 - acc: 0.8712 - val_loss: 0.3089 - val_acc: 0.8700\n",
      "Epoch 97/100\n",
      "0s - loss: 0.2984 - acc: 0.8712 - val_loss: 0.3077 - val_acc: 0.8700\n",
      "Epoch 98/100\n",
      "0s - loss: 0.2971 - acc: 0.8725 - val_loss: 0.3069 - val_acc: 0.8700\n",
      "Epoch 99/100\n",
      "0s - loss: 0.2958 - acc: 0.8712 - val_loss: 0.3057 - val_acc: 0.8700\n",
      "Epoch 100/100\n",
      "0s - loss: 0.2946 - acc: 0.8712 - val_loss: 0.3049 - val_acc: 0.8700\n"
     ]
    }
   ],
   "source": [
    "\n",
    "hist = model.fit(x[:800], y[:800],\n",
    "                epochs=100,\n",
    "                shuffle=True,\n",
    "                validation_data=(x[800:], y[800:]), verbose=2)#batch_size >>>it takes epoch batch wise..to give less load to memory"
   ]
  },
  {
   "cell_type": "code",
   "execution_count": 33,
   "metadata": {},
   "outputs": [
    {
     "data": {
      "image/png": "[encoded data removed]",
      "text/plain": [
       "<matplotlib.figure.Figure at 0x7f3b770eca90>"
      ]
     },
     "metadata": {},
     "output_type": "display_data"
    },
    {
     "data": {
      "image/png": "[encoded data removed]",
      "text/plain": [
       "<matplotlib.figure.Figure at 0x7f3b7769e1d0>"
      ]
     },
     "metadata": {},
     "output_type": "display_data"
    }
   ],
   "source": [
    "h_data = hist.history\n",
    "\n",
    "plt.figure(0)\n",
    "plt.title('Losses')\n",
    "plt.plot(h_data['loss'], 'green')\n",
    "plt.plot(h_data['val_loss'], 'red')\n",
    "\n",
    "plt.figure(1)\n",
    "plt.title('Accuracies')\n",
    "plt.plot(h_data['acc'], 'green')\n",
    "plt.plot(h_data['val_acc'], 'red')\n",
    "\n",
    "plt.show()"
   ]
  },
  {
   "cell_type": "code",
   "execution_count": 34,
   "metadata": {},
   "outputs": [
    {
     "data": {
      "text/plain": [
       "[<keras.layers.core.Dense at 0x7f3b7784e410>,\n",
       " <keras.layers.core.Activation at 0x7f3b77895d50>,\n",
       " <keras.layers.core.Dense at 0x7f3b777622d0>,\n",
       " <keras.layers.core.Activation at 0x7f3b776e2250>,\n",
       " <keras.layers.core.Dense at 0x7f3b77658cd0>,\n",
       " <keras.layers.core.Activation at 0x7f3b77753a90>]"
      ]
     },
     "execution_count": 34,
     "metadata": {},
     "output_type": "execute_result"
    }
   ],
   "source": [
    "model.layers"
   ]
  },
  {
   "cell_type": "markdown",
   "metadata": {},
   "source": [
    "# Model function"
   ]
  },
  {
   "cell_type": "code",
   "execution_count": 23,
   "metadata": {
    "collapsed": true
   },
   "outputs": [],
   "source": [
    "from keras.models import Model"
   ]
  },
  {
   "cell_type": "code",
   "execution_count": 24,
   "metadata": {},
   "outputs": [
    {
     "data": {
      "text/plain": [
       "<tf.Tensor 'dense_2_input:0' shape=(?, 2) dtype=float32>"
      ]
     },
     "execution_count": 24,
     "metadata": {},
     "output_type": "execute_result"
    }
   ],
   "source": [
    "model.input"
   ]
  },
  {
   "cell_type": "code",
   "execution_count": 25,
   "metadata": {
    "collapsed": true
   },
   "outputs": [],
   "source": [
    "m = Model(inputs=model.input, outputs=model.layers[1].output)\n",
    "# prediction depends on the model layer "
   ]
  },
  {
   "cell_type": "code",
   "execution_count": 26,
   "metadata": {
    "collapsed": true
   },
   "outputs": [],
   "source": [
    "#m.predict()-->>>Generates output predictions for the input samples.Computation is done in batches."
   ]
  },
  {
   "cell_type": "code",
   "execution_count": 27,
   "metadata": {},
   "outputs": [
    {
     "name": "stdout",
     "output_type": "stream",
     "text": [
      "(1000, 3)\n"
     ]
    }
   ],
   "source": [
    "o = m.predict(x)\n",
    "print o.shape"
   ]
  },
  {
   "cell_type": "code",
   "execution_count": 28,
   "metadata": {},
   "outputs": [
    {
     "name": "stdout",
     "output_type": "stream",
     "text": [
      "[[ 0.32592717  0.27747425  0.58715779]\n",
      " [ 0.46041134  0.51748723  0.53406018]\n",
      " [ 0.21488394  0.21061273  0.73095912]\n",
      " ..., \n",
      " [ 0.18280251  0.15948847  0.74869901]\n",
      " [ 0.52398139  0.61195827  0.49777454]\n",
      " [ 0.22019175  0.15534098  0.67035848]]\n"
     ]
    }
   ],
   "source": [
    "print o"
   ]
  },
  {
   "cell_type": "code",
   "execution_count": 29,
   "metadata": {},
   "outputs": [
    {
     "name": "stdout",
     "output_type": "stream",
     "text": [
      "[[ 0.94101702  0.47379912]\n",
      " [ 0.1963033   0.02391673]\n",
      " [-0.91576221  0.33163653]\n",
      " ..., \n",
      " [-0.74513934  0.47004335]\n",
      " [ 0.15581203 -0.11097189]\n",
      " [ 0.7210108   0.68908389]]\n"
     ]
    }
   ],
   "source": [
    "print x"
   ]
  },
  {
   "cell_type": "code",
   "execution_count": 30,
   "metadata": {},
   "outputs": [
    {
     "data": {
      "image/png": "[encoded data removed]",
      "text/plain": [
       "<matplotlib.figure.Figure at 0x7f3b789549d0>"
      ]
     },
     "metadata": {},
     "output_type": "display_data"
    }
   ],
   "source": [
    "\n",
    "\n",
    "for ix in range(o.shape[0]):\n",
    "    if y[ix, 0] == 1:\n",
    "        plt.scatter(o[ix, 0], o[ix, 1], color='red')\n",
    "    else:\n",
    "        plt.scatter(o[ix, 0], o[ix, 1], color='green')\n",
    "plt.show()\n",
    "\n"
   ]
  },
  {
   "cell_type": "code",
   "execution_count": null,
   "metadata": {
    "collapsed": true
   },
   "outputs": [],
   "source": []
  }
 ],
 "metadata": {
  "kernelspec": {
   "display_name": "Python 2",
   "language": "python",
   "name": "python2"
  },
  "language_info": {
   "codemirror_mode": {
    "name": "ipython",
    "version": 2
   },
   "file_extension": ".py",
   "mimetype": "text/x-python",
   "name": "python",
   "nbconvert_exporter": "python",
   "pygments_lexer": "ipython2",
   "version": "2.7.13"
  }
 },
 "nbformat": 4,
 "nbformat_minor": 2
}
