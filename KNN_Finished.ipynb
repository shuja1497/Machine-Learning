{
 "cells": [
  {
   "cell_type": "code",
   "execution_count": 4,
   "metadata": {
    "collapsed": true
   },
   "outputs": [],
   "source": [
    "import numpy as np\n",
    "from matplotlib import pyplot as plt\n",
    "%matplotlib inline\n"
   ]
  },
  {
   "cell_type": "code",
   "execution_count": 5,
   "metadata": {},
   "outputs": [
    {
     "name": "stdout",
     "output_type": "stream",
     "text": [
      "[[1, 1], [1, 2], [2, 1], [3, 3], [-1, 0], [0, 2]]\n"
     ]
    }
   ],
   "source": [
    "pts = [[1, 1], [1, 2], [2, 1], [3, 3], [-1, 0], [0, 2]]\n",
    "print pts"
   ]
  },
  {
   "cell_type": "code",
   "execution_count": 9,
   "metadata": {},
   "outputs": [
    {
     "name": "stdout",
     "output_type": "stream",
     "text": [
      "(6, 2)\n",
      "<type 'numpy.ndarray'>\n",
      "[[ 1  1]\n",
      " [ 1  2]\n",
      " [ 2  1]\n",
      " [ 3  3]\n",
      " [-1  0]\n",
      " [ 0  2]]\n"
     ]
    }
   ],
   "source": [
    "x = np.asarray(pts)\n",
    "print x.shape\n",
    "print type(x)\n",
    "print x"
   ]
  },
  {
   "cell_type": "code",
   "execution_count": 8,
   "metadata": {},
   "outputs": [
    {
     "name": "stdout",
     "output_type": "stream",
     "text": [
      "[1 2 1 3 0 2]\n"
     ]
    }
   ],
   "source": [
    "print x[:,1]"
   ]
  },
  {
   "cell_type": "code",
   "execution_count": 11,
   "metadata": {},
   "outputs": [
    {
     "name": "stdout",
     "output_type": "stream",
     "text": [
      "(6, 2)\n",
      "(2, 6)\n"
     ]
    }
   ],
   "source": [
    "a = np.array(x)*2\n",
    "print a.shape\n",
    "print a.T.shape"
   ]
  },
  {
   "cell_type": "code",
   "execution_count": 14,
   "metadata": {},
   "outputs": [],
   "source": [
    "np.array?"
   ]
  },
  {
   "cell_type": "code",
   "execution_count": 20,
   "metadata": {},
   "outputs": [
    {
     "name": "stdout",
     "output_type": "stream",
     "text": [
      "[[1 2 3]\n",
      " [2 4 5]\n",
      " [1 2 6]]\n",
      "(3, 3)\n"
     ]
    }
   ],
   "source": [
    "z=np.array([[1,2,3],[2,4,5],[1,2,6]])\n",
    "print z\n",
    "print z.shape"
   ]
  },
  {
   "cell_type": "code",
   "execution_count": 24,
   "metadata": {},
   "outputs": [
    {
     "name": "stdout",
     "output_type": "stream",
     "text": [
      "[[ 1.  1.  1.]\n",
      " [ 1.  1.  1.]\n",
      " [ 1.  1.  1.]]\n"
     ]
    }
   ],
   "source": [
    "a = np.ones((3,3))\n",
    "print a"
   ]
  },
  {
   "cell_type": "code",
   "execution_count": 26,
   "metadata": {},
   "outputs": [
    {
     "name": "stdout",
     "output_type": "stream",
     "text": [
      "[[  4.   8.  14.]\n",
      " [  4.   8.  14.]\n",
      " [  4.   8.  14.]]\n"
     ]
    }
   ],
   "source": [
    "print np.dot(a,z)"
   ]
  },
  {
   "cell_type": "code",
   "execution_count": 27,
   "metadata": {},
   "outputs": [
    {
     "name": "stdout",
     "output_type": "stream",
     "text": [
      "[[  6.   6.   6.]\n",
      " [ 11.  11.  11.]\n",
      " [  9.   9.   9.]]\n"
     ]
    }
   ],
   "source": [
    "print np.dot(z,a)\n"
   ]
  },
  {
   "cell_type": "code",
   "execution_count": 28,
   "metadata": {},
   "outputs": [
    {
     "name": "stdout",
     "output_type": "stream",
     "text": [
      "[[1 2 3]\n",
      " [2 4 5]\n",
      " [1 2 6]]\n"
     ]
    }
   ],
   "source": [
    "print z"
   ]
  },
  {
   "cell_type": "code",
   "execution_count": 31,
   "metadata": {},
   "outputs": [
    {
     "data": {
      "text/plain": [
       "<matplotlib.collections.PathCollection at 0x7f295d9736d0>"
      ]
     },
     "execution_count": 31,
     "metadata": {},
     "output_type": "execute_result"
    },
    {
     "data": {
      "image/png": "[encoded data removed]",
      "text/plain": [
       "<matplotlib.figure.Figure at 0x7f295d9df150>"
      ]
     },
     "metadata": {},
     "output_type": "display_data"
    }
   ],
   "source": [
    "plt.figure(0)\n",
    "plt.scatter(z[:,0],z[:,2])"
   ]
  },
  {
   "cell_type": "code",
   "execution_count": 32,
   "metadata": {},
   "outputs": [
    {
     "name": "stdout",
     "output_type": "stream",
     "text": [
      "[[ 0.88853144  0.19904744]\n",
      " [ 0.37771353  0.75824544]\n",
      " [ 0.73792251  0.8927043 ]\n",
      " [ 0.38877265  0.62888757]\n",
      " [ 0.33736861  0.95287167]\n",
      " [ 0.48508913  0.08400845]\n",
      " [ 0.74262333  0.93650082]\n",
      " [ 0.210098    0.6872942 ]\n",
      " [ 0.21689281  0.76096354]\n",
      " [ 0.41757967  0.62365392]\n",
      " [ 0.34102808  0.0364914 ]\n",
      " [ 0.40424418  0.73845854]\n",
      " [ 0.75704513  0.72237954]\n",
      " [ 0.26755682  0.92542958]\n",
      " [ 0.08654618  0.77118198]\n",
      " [ 0.00833079  0.55766611]\n",
      " [ 0.93380954  0.51166384]\n",
      " [ 0.02439764  0.22577689]\n",
      " [ 0.71936959  0.90750342]\n",
      " [ 0.34506684  0.18218053]\n",
      " [ 0.69732433  0.62797472]\n",
      " [ 0.29908595  0.7572099 ]\n",
      " [ 0.84035156  0.6622727 ]\n",
      " [ 0.04749103  0.0813087 ]\n",
      " [ 0.02216521  0.49904802]\n",
      " [ 0.41676747  0.07879239]\n",
      " [ 0.84945784  0.9190382 ]\n",
      " [ 0.23405535  0.81444533]\n",
      " [ 0.24655952  0.58462596]\n",
      " [ 0.31035226  0.9554772 ]\n",
      " [ 0.15096634  0.49307878]\n",
      " [ 0.27765085  0.52371287]\n",
      " [ 0.91747334  0.50026814]\n",
      " [ 0.82222614  0.09757594]\n",
      " [ 0.42687791  0.66095009]\n",
      " [ 0.87862202  0.06339473]\n",
      " [ 0.35173466  0.38222008]\n",
      " [ 0.6913378   0.52173663]\n",
      " [ 0.64451855  0.53268449]\n",
      " [ 0.02004037  0.03852006]\n",
      " [ 0.23004038  0.24002168]\n",
      " [ 0.33795794  0.562376  ]\n",
      " [ 0.4387214   0.80934637]\n",
      " [ 0.38012485  0.19398327]\n",
      " [ 0.97280517  0.62089655]\n",
      " [ 0.94791135  0.31671602]\n",
      " [ 0.88601321  0.27589455]\n",
      " [ 0.66367936  0.20860676]\n",
      " [ 0.83420101  0.78492841]\n",
      " [ 0.06602707  0.64948889]\n",
      " [ 0.54289602  0.22091594]\n",
      " [ 0.07045684  0.98702   ]\n",
      " [ 0.02062469  0.48952406]\n",
      " [ 0.34741164  0.65353341]\n",
      " [ 0.36535222  0.23248515]\n",
      " [ 0.80274692  0.38755709]\n",
      " [ 0.61991953  0.03284161]\n",
      " [ 0.32316652  0.10653285]\n",
      " [ 0.29255842  0.13038955]\n",
      " [ 0.84383407  0.90535895]\n",
      " [ 0.52319783  0.61346055]\n",
      " [ 0.10718997  0.78166255]\n",
      " [ 0.28539276  0.50001594]\n",
      " [ 0.59070935  0.30785894]\n",
      " [ 0.20814306  0.64554643]\n",
      " [ 0.88619645  0.28127586]\n",
      " [ 0.94264045  0.06963649]\n",
      " [ 0.10123496  0.84262444]\n",
      " [ 0.14258663  0.87896193]\n",
      " [ 0.8981803   0.45656926]\n",
      " [ 0.62906986  0.91264163]\n",
      " [ 0.20053999  0.63605809]\n",
      " [ 0.23874665  0.94322318]\n",
      " [ 0.73893893  0.79366222]\n",
      " [ 0.68341035  0.87236993]\n",
      " [ 0.68577208  0.03561476]\n",
      " [ 0.43009307  0.81160733]\n",
      " [ 0.19245696  0.07270272]\n",
      " [ 0.68813867  0.67876699]\n",
      " [ 0.59172105  0.64427659]\n",
      " [ 0.11315356  0.97735634]\n",
      " [ 0.25596869  0.5928406 ]\n",
      " [ 0.65383885  0.50061129]\n",
      " [ 0.67451911  0.48596614]\n",
      " [ 0.7913826   0.43542077]\n",
      " [ 0.78086548  0.26081032]\n",
      " [ 0.42400749  0.75042998]\n",
      " [ 0.88593937  0.30662945]\n",
      " [ 0.62892353  0.08506981]\n",
      " [ 0.96761063  0.53403209]\n",
      " [ 0.01613533  0.977235  ]\n",
      " [ 0.294585    0.16868811]\n",
      " [ 0.66969466  0.20235286]\n",
      " [ 0.38876167  0.28834419]\n",
      " [ 0.58018419  0.5651695 ]\n",
      " [ 0.37869428  0.97104037]\n",
      " [ 0.61062059  0.38550516]\n",
      " [ 0.36888719  0.25177661]\n",
      " [ 0.39786758  0.10608571]\n",
      " [ 0.00556342  0.36956012]]\n"
     ]
    }
   ],
   "source": [
    "size  = (100,2)\n",
    "x = np.random.random(size)\n",
    "print x"
   ]
  },
  {
   "cell_type": "code",
   "execution_count": 33,
   "metadata": {},
   "outputs": [
    {
     "name": "stdout",
     "output_type": "stream",
     "text": [
      "[[ 0.88853144  0.19904744]\n",
      " [ 0.37771353  0.75824544]\n",
      " [ 0.73792251  0.8927043 ]\n",
      " [ 0.38877265  0.62888757]\n",
      " [ 0.33736861  0.95287167]]\n"
     ]
    }
   ],
   "source": [
    "print x[:5,:]"
   ]
  },
  {
   "cell_type": "code",
   "execution_count": 36,
   "metadata": {},
   "outputs": [
    {
     "name": "stdout",
     "output_type": "stream",
     "text": [
      "[[1]\n",
      " [2]]\n"
     ]
    }
   ],
   "source": [
    "print np.array([[1],[2]])"
   ]
  },
  {
   "cell_type": "code",
   "execution_count": 62,
   "metadata": {},
   "outputs": [
    {
     "name": "stdout",
     "output_type": "stream",
     "text": [
      "[[1 2 3]\n",
      " [4 5 6]]\n"
     ]
    }
   ],
   "source": [
    "a=np.array([[1,2,3],[4,5,6]])\n",
    "print a"
   ]
  },
  {
   "cell_type": "code",
   "execution_count": 39,
   "metadata": {},
   "outputs": [
    {
     "name": "stdout",
     "output_type": "stream",
     "text": [
      "3.5\n"
     ]
    }
   ],
   "source": [
    "print np.mean(a)\n"
   ]
  },
  {
   "cell_type": "code",
   "execution_count": 63,
   "metadata": {},
   "outputs": [
    {
     "name": "stdout",
     "output_type": "stream",
     "text": [
      "[[1 2]\n",
      " [3 4]\n",
      " [5 6]]\n"
     ]
    }
   ],
   "source": [
    "b = np.array([[1,2],[3,4],[5,6]])\n",
    "print b"
   ]
  },
  {
   "cell_type": "code",
   "execution_count": 64,
   "metadata": {},
   "outputs": [
    {
     "name": "stdout",
     "output_type": "stream",
     "text": [
      "3.5\n"
     ]
    }
   ],
   "source": [
    "print np.mean(b)\n"
   ]
  },
  {
   "cell_type": "code",
   "execution_count": 66,
   "metadata": {},
   "outputs": [
    {
     "name": "stdout",
     "output_type": "stream",
     "text": [
      "[ 1.5  3.5  5.5]\n"
     ]
    }
   ],
   "source": [
    "print np.mean(b,axis=1)"
   ]
  },
  {
   "cell_type": "code",
   "execution_count": 40,
   "metadata": {},
   "outputs": [
    {
     "name": "stdout",
     "output_type": "stream",
     "text": [
      "[ 2.5  3.5  4.5]\n"
     ]
    }
   ],
   "source": [
    "print np.mean(a,axis=0)"
   ]
  },
  {
   "cell_type": "code",
   "execution_count": 54,
   "metadata": {},
   "outputs": [
    {
     "name": "stdout",
     "output_type": "stream",
     "text": [
      "(500, 2)\n"
     ]
    }
   ],
   "source": [
    "mean01  = np.array([6,4])\n",
    "cov01 = np.array([[1,0],[0,1]])\n",
    "data01 = np.random.multivariate_normal(mean01,cov01,500)\n",
    "print data01.shape"
   ]
  },
  {
   "cell_type": "code",
   "execution_count": 55,
   "metadata": {},
   "outputs": [
    {
     "data": {
      "text/plain": [
       "<matplotlib.collections.PathCollection at 0x7f295a447550>"
      ]
     },
     "execution_count": 55,
     "metadata": {},
     "output_type": "execute_result"
    },
    {
     "data": {
      "image/png": "[encoded data removed]",
      "text/plain": [
       "<matplotlib.figure.Figure at 0x7f295a525610>"
      ]
     },
     "metadata": {},
     "output_type": "display_data"
    }
   ],
   "source": [
    "plt.scatter(data01[:,0],data01[:,1])"
   ]
  },
  {
   "cell_type": "code",
   "execution_count": 49,
   "metadata": {},
   "outputs": [
    {
     "name": "stdout",
     "output_type": "stream",
     "text": [
      "[[ 5.11312286  0.05033955]\n",
      " [ 0.05033955  0.99192205]]\n"
     ]
    }
   ],
   "source": [
    "print np.cov(data01.T)"
   ]
  },
  {
   "cell_type": "code",
   "execution_count": 94,
   "metadata": {},
   "outputs": [
    {
     "data": {
      "text/plain": [
       "<matplotlib.collections.PathCollection at 0x7f295a01ee10>"
      ]
     },
     "execution_count": 94,
     "metadata": {},
     "output_type": "execute_result"
    },
    {
     "data": {
      "image/png": "[encoded data removed]",
      "text/plain": [
       "<matplotlib.figure.Figure at 0x7f295a17e150>"
      ]
     },
     "metadata": {},
     "output_type": "display_data"
    }
   ],
   "source": [
    "mean_01 = np.array([1,1])\n",
    "cov_01 = np.array([[1.5,1],[1,1.6]])\n",
    "data_01 = np.random.multivariate_normal(mean_01, cov_01, 500)\n",
    "\n",
    "mean_02 = np.array([6,6])\n",
    "cov_02 = np.array([[1.5,1],[1,1.6]])\n",
    "data_02 = np.random.multivariate_normal(mean_02, cov_02, 500)\n",
    "\n",
    "plt.scatter(data_01[:,0],data_01[:,1])\n",
    "plt.scatter(data_02[:,0],data_02[:,1],color=\"red\")"
   ]
  },
  {
   "cell_type": "code",
   "execution_count": 95,
   "metadata": {},
   "outputs": [
    {
     "name": "stdout",
     "output_type": "stream",
     "text": [
      "[[-1.03749046 -0.00403345  0.        ]\n",
      " [ 1.06092587  2.41821162  0.        ]\n",
      " [ 1.44368495  1.40089815  0.        ]\n",
      " [ 0.45465305 -0.48290667  0.        ]\n",
      " [ 2.23081467  3.00538313  0.        ]\n",
      " [ 0.44454284  2.67759018  0.        ]\n",
      " [ 1.75548435  1.54454906  0.        ]\n",
      " [-1.31136145 -0.28751846  0.        ]\n",
      " [ 0.62173376  0.7242504   0.        ]\n",
      " [-0.75290477 -1.97039478  0.        ]]\n"
     ]
    }
   ],
   "source": [
    "data = np.zeros((1000,3))\n",
    "data[:500,:2] = data_01\n",
    "data[500:,:2] = data_02\n",
    "data[500:,-1] = 1 # labelling with clusters...\n",
    "print data[:10]"
   ]
  },
  {
   "cell_type": "code",
   "execution_count": 96,
   "metadata": {},
   "outputs": [
    {
     "name": "stdout",
     "output_type": "stream",
     "text": [
      "[[ 1.30501819  0.82063196  0.        ]\n",
      " [ 1.43224528  1.51133     0.        ]\n",
      " [ 0.68743645  0.64245333  0.        ]\n",
      " [ 5.87667368  5.74087758  1.        ]\n",
      " [ 7.96299851  7.19140555  1.        ]\n",
      " [ 7.13663714  7.27114634  1.        ]\n",
      " [ 5.98308001  7.21009536  1.        ]\n",
      " [ 8.76867921  7.50847484  1.        ]\n",
      " [ 1.70218486  1.84308962  0.        ]\n",
      " [ 1.44742678  3.55622332  0.        ]]\n"
     ]
    }
   ],
   "source": [
    "np.random.shuffle(data)\n",
    "print data[:10]"
   ]
  },
  {
   "cell_type": "code",
   "execution_count": 97,
   "metadata": {},
   "outputs": [
    {
     "name": "stdout",
     "output_type": "stream",
     "text": [
      "(1000, 3)\n"
     ]
    }
   ],
   "source": [
    "print data.shape"
   ]
  },
  {
   "cell_type": "code",
   "execution_count": 98,
   "metadata": {},
   "outputs": [
    {
     "name": "stdout",
     "output_type": "stream",
     "text": [
      "1000\n"
     ]
    }
   ],
   "source": [
    "print data.shape[0]"
   ]
  },
  {
   "cell_type": "code",
   "execution_count": 99,
   "metadata": {},
   "outputs": [
    {
     "name": "stdout",
     "output_type": "stream",
     "text": [
      "800\n"
     ]
    }
   ],
   "source": [
    "print int(0.8 * data.shape[0])"
   ]
  },
  {
   "cell_type": "code",
   "execution_count": 100,
   "metadata": {},
   "outputs": [
    {
     "name": "stdout",
     "output_type": "stream",
     "text": [
      "(800, 3) (200, 3)\n"
     ]
    }
   ],
   "source": [
    "split  = int(0.8 * data.shape[0])\n",
    "# dividing our data in training set and testing set\n",
    "train =data[:split]\n",
    "test = data[split:]\n",
    "\n",
    "print train.shape , test.shape"
   ]
  },
  {
   "cell_type": "code",
   "execution_count": 101,
   "metadata": {},
   "outputs": [
    {
     "name": "stdout",
     "output_type": "stream",
     "text": [
      "[ 3.50764405  3.53409329  0.5       ]\n"
     ]
    }
   ],
   "source": [
    "print np.mean(data,axis=0)"
   ]
  },
  {
   "cell_type": "code",
   "execution_count": 102,
   "metadata": {},
   "outputs": [
    {
     "name": "stdout",
     "output_type": "stream",
     "text": [
      "[ 3.50764405  3.53409329  0.5       ]\n"
     ]
    }
   ],
   "source": [
    "print data.mean(axis=0)"
   ]
  },
  {
   "cell_type": "code",
   "execution_count": 112,
   "metadata": {},
   "outputs": [],
   "source": [
    "def knn(data , test , k=10):\n",
    "    N = data.shape[0]\n",
    "    dist = []\n",
    "    \n",
    "    for ix  in range(N):\n",
    "        d = distance(data[ix,:2], test)\n",
    "        dist.append([d, data[ix,-1]])\n",
    "    return dist[:k]# will give uneven ans because not sorted\n",
    "    \n",
    "\n",
    "def distance(x1,x2):\n",
    "    return np.sqrt(((x1-x2)**2).sum())\n",
    "#print distance(np.array([1,1]) , np.array([2,2]))\n",
    "#print data.shape[0]\n",
    "#print type(data)\n"
   ]
  },
  {
   "cell_type": "code",
   "execution_count": 113,
   "metadata": {},
   "outputs": [
    {
     "name": "stdout",
     "output_type": "stream",
     "text": [
      "[[ 12.6437141    0.        ]\n",
      " [ 12.06084323   0.        ]\n",
      " [ 13.20179986   0.        ]\n",
      " [  5.92806407   1.        ]\n",
      " [  3.46952127   1.        ]\n",
      " [  3.95543792   1.        ]\n",
      " [  4.89072736   1.        ]\n",
      " [  2.77918126   1.        ]\n",
      " [ 11.63567459   0.        ]\n",
      " [ 10.70835032   0.        ]]\n"
     ]
    }
   ],
   "source": [
    "a = knn(train, np.array([10,10]))\n",
    "print np.array(a)"
   ]
  },
  {
   "cell_type": "code",
   "execution_count": 117,
   "metadata": {
    "collapsed": true
   },
   "outputs": [],
   "source": [
    "np.unique?\n"
   ]
  },
  {
   "cell_type": "code",
   "execution_count": 126,
   "metadata": {
    "collapsed": true
   },
   "outputs": [],
   "source": [
    "def knn(data , test , k=5):\n",
    "    N = data.shape[0]\n",
    "    dist = []\n",
    "    \n",
    "    for ix  in range(N):\n",
    "        d = distance(data[ix,:2], test)\n",
    "        dist.append([d, data[ix,-1]])\n",
    "    # sort according to 0th index that is distance    \n",
    "    neighbours = sorted(dist,key= lambda x:x[0])\n",
    "    # taking kth min distances\n",
    "    k_neighbours = neighbours[:k]\n",
    "    dist_And_labels = np.asarray(k_neighbours)\n",
    "    labels  = dist_And_labels[:,-1]\n",
    "    print labels\n",
    "    #freq will be a tuple contatining array of unique element with their count...\n",
    "    freq  = np.unique(labels, return_counts=True)\n",
    "    #print type(freq)\n",
    "    return freq\n",
    "    \n",
    "\n",
    "def distance(x1,x2):\n",
    "    return np.sqrt(((x1-x2)**2).sum())"
   ]
  },
  {
   "cell_type": "code",
   "execution_count": 128,
   "metadata": {},
   "outputs": [
    {
     "name": "stdout",
     "output_type": "stream",
     "text": [
      "[ 1.  1.  1.  0.  0.  1.  1.  1.  1.]\n",
      "(array([ 0.,  1.]), array([2, 7]))\n"
     ]
    }
   ],
   "source": [
    "z = np.array([3, 4])\n",
    "out = knn(train, z, k=9)\n",
    "print out"
   ]
  },
  {
   "cell_type": "code",
   "execution_count": 134,
   "metadata": {},
   "outputs": [
    {
     "name": "stdout",
     "output_type": "stream",
     "text": [
      "1\n",
      "7\n"
     ]
    }
   ],
   "source": [
    "print out[1].argmax()# returns the index\n",
    "print out[1][out[1].argmax()]"
   ]
  },
  {
   "cell_type": "code",
   "execution_count": 145,
   "metadata": {
    "collapsed": true
   },
   "outputs": [],
   "source": [
    "def knn(data , test , k=5):\n",
    "    N = data.shape[0]\n",
    "    dist = []\n",
    "    \n",
    "    for ix  in range(N):\n",
    "        d = distance(data[ix,:2], test)\n",
    "        dist.append([d, data[ix,-1]])\n",
    "    # sort according to 0th index that is distance    \n",
    "    neighbours = sorted(dist,key= lambda x:x[0])\n",
    "    # taking kth min distances\n",
    "    k_neighbours = neighbours[:k]\n",
    "    dist_And_labels = np.asarray(k_neighbours)\n",
    "    labels  = dist_And_labels[:,-1]\n",
    "    #print labels\n",
    "    #freq will be a tuple contatining array of unique element with their count...\n",
    "    freq  = np.unique(labels, return_counts=True)\n",
    "    #print type(freq)\n",
    "    index_of_max_count = freq[1].argmax()#label corresponding to this index will have max count ..\n",
    "    predicted_label = freq[0][index_of_max_count]\n",
    "    return predicted_label\n",
    "    \n",
    "\n",
    "def distance(x1,x2):\n",
    "    return np.sqrt(((x1-x2)**2).sum())"
   ]
  },
  {
   "cell_type": "code",
   "execution_count": 146,
   "metadata": {},
   "outputs": [
    {
     "name": "stdout",
     "output_type": "stream",
     "text": [
      "1.0\n"
     ]
    },
    {
     "data": {
      "text/plain": [
       "<matplotlib.collections.PathCollection at 0x7f2959bd9b90>"
      ]
     },
     "execution_count": 146,
     "metadata": {},
     "output_type": "execute_result"
    },
    {
     "data": {
      "image/png": "[encoded data removed]",
      "text/plain": [
       "<matplotlib.figure.Figure at 0x7f2959e155d0>"
      ]
     },
     "metadata": {},
     "output_type": "display_data"
    }
   ],
   "source": [
    "z = np.array([3, 4])\n",
    "out = knn(train, z, k=9)\n",
    "print out \n",
    "plt.figure(1)\n",
    "plt.scatter(data_01[:,0],data_01[:,1])\n",
    "plt.scatter(data_02[:,0],data_02[:,1],color=\"red\")\n",
    "plt.scatter(z[0],z[1],color=\"black\")"
   ]
  },
  {
   "cell_type": "code",
   "execution_count": 147,
   "metadata": {},
   "outputs": [
    {
     "name": "stdout",
     "output_type": "stream",
     "text": [
      "200\n"
     ]
    }
   ],
   "source": [
    "print test.shape[0]"
   ]
  },
  {
   "cell_type": "code",
   "execution_count": 148,
   "metadata": {
    "collapsed": true
   },
   "outputs": [],
   "source": [
    "# testing on our test set "
   ]
  },
  {
   "cell_type": "code",
   "execution_count": 150,
   "metadata": {},
   "outputs": [
    {
     "name": "stdout",
     "output_type": "stream",
     "text": [
      "[ 1.  0.  1.  0.  1.  1.  1.  0.  1.  0.  0.  1.  1.  1.  0.  0.  0.  0.\n",
      "  1.  0.  1.  1.  0.  0.  1.  0.  0.  1.  0.  1.  0.  1.  1.  0.  1.  1.\n",
      "  0.  1.  0.  0.  1.  0.  0.  0.  0.  0.  0.  0.  0.  0.  0.  0.  1.  1.\n",
      "  1.  1.  0.  0.  0.  0.  0.  1.  1.  0.  1.  0.  1.  1.  0.  0.  0.  0.\n",
      "  1.  1.  0.  1.  0.  1.  0.  0.  1.  0.  1.  1.  1.  1.  1.  1.  0.  1.\n",
      "  1.  0.  1.  0.  1.  0.  0.  0.  1.  0.  0.  1.  1.  1.  0.  1.  0.  0.\n",
      "  0.  1.  1.  0.  1.  1.  1.  1.  1.  1.  1.  0.  1.  0.  0.  0.  1.  0.\n",
      "  0.  0.  0.  0.  0.  1.  1.  0.  0.  1.  0.  0.  0.  0.  1.  0.  0.  1.\n",
      "  0.  0.  1.  0.  0.  1.  1.  0.  0.  1.  1.  0.  0.  0.  1.  0.  1.  1.\n",
      "  1.  0.  1.  1.  1.  0.  0.  1.  0.  1.  1.  0.  1.  1.  1.  1.  0.  0.\n",
      "  0.  0.  0.  1.  0.  1.  0.  1.  1.  0.  0.  0.  1.  1.  1.  1.  1.  1.\n",
      "  0.  1.]\n"
     ]
    }
   ],
   "source": [
    "record  = []\n",
    "\n",
    "for ix in range(test.shape[0]):\n",
    "    record.append(knn(train, test[ix,:2],k=5))\n",
    "\n",
    "record = np.asarray(record)\n",
    "\n",
    "print record # will print 200 predicted labels or clusters\n"
   ]
  },
  {
   "cell_type": "code",
   "execution_count": 151,
   "metadata": {
    "collapsed": true
   },
   "outputs": [],
   "source": [
    "# checking test with predicted and giving our probability"
   ]
  },
  {
   "cell_type": "code",
   "execution_count": 152,
   "metadata": {},
   "outputs": [
    {
     "name": "stdout",
     "output_type": "stream",
     "text": [
      "[ 1.  0.  1.  0.  1.  1.  1.  0.  1.  0.  0.  1.  1.  1.  0.  0.  0.  0.\n",
      "  1.  0.  1.  1.  0.  0.  1.  0.  0.  1.  0.  1.  0.  1.  1.  0.  1.  1.\n",
      "  0.  1.  0.  0.  1.  0.  0.  0.  0.  0.  0.  0.  0.  0.  0.  0.  1.  1.\n",
      "  1.  1.  0.  0.  0.  0.  0.  1.  1.  0.  1.  0.  1.  1.  0.  0.  0.  0.\n",
      "  1.  1.  0.  1.  0.  1.  0.  0.  1.  0.  1.  1.  1.  1.  1.  1.  0.  1.\n",
      "  1.  0.  1.  0.  1.  0.  0.  0.  1.  0.  0.  1.  1.  1.  0.  1.  0.  0.\n",
      "  0.  1.  1.  0.  1.  1.  1.  1.  1.  1.  1.  0.  1.  0.  0.  0.  1.  0.\n",
      "  0.  0.  0.  0.  0.  1.  1.  0.  0.  1.  0.  0.  0.  0.  1.  0.  0.  1.\n",
      "  0.  0.  1.  0.  0.  1.  1.  0.  0.  1.  1.  0.  0.  0.  1.  0.  1.  1.\n",
      "  1.  0.  1.  1.  1.  0.  0.  1.  0.  1.  1.  0.  1.  1.  1.  1.  0.  0.\n",
      "  0.  0.  0.  1.  0.  1.  0.  1.  1.  0.  0.  0.  1.  1.  1.  1.  1.  1.\n",
      "  0.  0.]\n",
      "[ 1.  0.  1.  0.  1.  1.  1.  0.  1.  0.  0.  1.  1.  1.  0.  0.  0.  0.\n",
      "  1.  0.  1.  1.  0.  0.  1.  0.  0.  1.  0.  1.  0.  1.  1.  0.  1.  1.\n",
      "  0.  1.  0.  0.  1.  0.  0.  0.  0.  0.  0.  0.  0.  0.  0.  0.  1.  1.\n",
      "  1.  1.  0.  0.  0.  0.  0.  1.  1.  0.  1.  0.  1.  1.  0.  0.  0.  0.\n",
      "  1.  1.  0.  1.  0.  1.  0.  0.  1.  0.  1.  1.  1.  1.  1.  1.  0.  1.\n",
      "  1.  0.  1.  0.  1.  0.  0.  0.  1.  0.  0.  1.  1.  1.  0.  1.  0.  0.\n",
      "  0.  1.  1.  0.  1.  1.  1.  1.  1.  1.  1.  0.  1.  0.  0.  0.  1.  0.\n",
      "  0.  0.  0.  0.  0.  1.  1.  0.  0.  1.  0.  0.  0.  0.  1.  0.  0.  1.\n",
      "  0.  0.  1.  0.  0.  1.  1.  0.  0.  1.  1.  0.  0.  0.  1.  0.  1.  1.\n",
      "  1.  0.  1.  1.  1.  0.  0.  1.  0.  1.  1.  0.  1.  1.  1.  1.  0.  0.\n",
      "  0.  0.  0.  1.  0.  1.  0.  1.  1.  0.  0.  0.  1.  1.  1.  1.  1.  1.\n",
      "  0.  1.]\n"
     ]
    }
   ],
   "source": [
    "predicted  = record\n",
    "expected  =test[:,-1]\n",
    "\n",
    "print expected\n",
    "print predicted"
   ]
  },
  {
   "cell_type": "code",
   "execution_count": 153,
   "metadata": {
    "collapsed": true
   },
   "outputs": [],
   "source": [
    "# == returns true or false that is 0 or 1 "
   ]
  },
  {
   "cell_type": "code",
   "execution_count": 155,
   "metadata": {},
   "outputs": [
    {
     "name": "stdout",
     "output_type": "stream",
     "text": [
      "99.5\n"
     ]
    }
   ],
   "source": [
    "accuracy = 100*float((predicted == expected).sum())/expected.shape[0]\n",
    "print accuracy"
   ]
  },
  {
   "cell_type": "code",
   "execution_count": null,
   "metadata": {
    "collapsed": true
   },
   "outputs": [],
   "source": []
  }
 ],
 "metadata": {
  "kernelspec": {
   "display_name": "Python 2",
   "language": "python",
   "name": "python2"
  },
  "language_info": {
   "codemirror_mode": {
    "name": "ipython",
    "version": 2
   },
   "file_extension": ".py",
   "mimetype": "text/x-python",
   "name": "python",
   "nbconvert_exporter": "python",
   "pygments_lexer": "ipython2",
   "version": "2.7.13"
  }
 },
 "nbformat": 4,
 "nbformat_minor": 2
}
