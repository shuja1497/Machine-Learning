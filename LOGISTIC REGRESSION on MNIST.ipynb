{
 "cells": [
  {
   "cell_type": "code",
   "execution_count": 44,
   "metadata": {
    "collapsed": true
   },
   "outputs": [],
   "source": [
    "import numpy as np\n",
    "import pandas as pd\n",
    "from matplotlib import  pyplot as plt\n",
    "%matplotlib inline \n",
    "import sklearn\n",
    "from sklearn.decomposition import PCA\n",
    "from sklearn.linear_model import LogisticRegression"
   ]
  },
  {
   "cell_type": "code",
   "execution_count": 45,
   "metadata": {},
   "outputs": [
    {
     "name": "stdout",
     "output_type": "stream",
     "text": [
      "(5000, 785)\n"
     ]
    }
   ],
   "source": [
    "ds =pd.read_csv('train.csv')\n",
    "all_data = ds.values[:5000, :]\n",
    "print all_data.shape"
   ]
  },
  {
   "cell_type": "code",
   "execution_count": 46,
   "metadata": {
    "collapsed": true
   },
   "outputs": [],
   "source": [
    "import datetime"
   ]
  },
  {
   "cell_type": "code",
   "execution_count": 47,
   "metadata": {
    "collapsed": true
   },
   "outputs": [],
   "source": [
    "X = all_data[:, 1:]\n",
    "Y = all_data[:,0]"
   ]
  },
  {
   "cell_type": "code",
   "execution_count": 48,
   "metadata": {},
   "outputs": [
    {
     "name": "stdout",
     "output_type": "stream",
     "text": [
      "[0 1 0 ..., 1 0 0]\n"
     ]
    }
   ],
   "source": [
    "Y = np.asarray((Y%2 == 0), dtype='uint8')# converted to 0 and 1 .. easier to classify for logistic regression\n",
    "print Y"
   ]
  },
  {
   "cell_type": "raw",
   "metadata": {},
   "source": []
  },
  {
   "cell_type": "code",
   "execution_count": null,
   "metadata": {
    "collapsed": true
   },
   "outputs": [],
   "source": []
  },
  {
   "cell_type": "code",
   "execution_count": 49,
   "metadata": {},
   "outputs": [
    {
     "name": "stdout",
     "output_type": "stream",
     "text": [
      "time taken  0:00:26.078239\n"
     ]
    }
   ],
   "source": [
    "start = datetime.datetime.now()\n",
    "lr_01  = LogisticRegression()\n",
    "lr_01.fit(X[:4500], Y[:4500])\n",
    "\n",
    "print 'time taken ',datetime.datetime.now() - start\n",
    "\n"
   ]
  },
  {
   "cell_type": "code",
   "execution_count": 50,
   "metadata": {},
   "outputs": [
    {
     "data": {
      "text/plain": [
       "0.87"
      ]
     },
     "execution_count": 50,
     "metadata": {},
     "output_type": "execute_result"
    }
   ],
   "source": [
    "lr_01.score(X[4500:],Y[4500:])\n"
   ]
  },
  {
   "cell_type": "code",
   "execution_count": 51,
   "metadata": {
    "collapsed": true
   },
   "outputs": [],
   "source": [
    "#apply pca \n",
    "\n",
    "pca = PCA(n_components=148)\n",
    "XX = pca.fit_transform(X)\n",
    "\n"
   ]
  },
  {
   "cell_type": "code",
   "execution_count": 52,
   "metadata": {},
   "outputs": [
    {
     "name": "stdout",
     "output_type": "stream",
     "text": [
      "time taken  0:00:01.949107\n"
     ]
    }
   ],
   "source": [
    "start = datetime.datetime.now()\n",
    "lr_01  = LogisticRegression()\n",
    "lr_01.fit(XX[:4500], Y[:4500])\n",
    "\n",
    "print 'time taken ',datetime.datetime.now() - start\n"
   ]
  },
  {
   "cell_type": "code",
   "execution_count": 53,
   "metadata": {},
   "outputs": [
    {
     "data": {
      "text/plain": [
       "0.91200000000000003"
      ]
     },
     "execution_count": 53,
     "metadata": {},
     "output_type": "execute_result"
    }
   ],
   "source": [
    "lr_01.score(XX[4500:],Y[4500:])\n"
   ]
  },
  {
   "cell_type": "code",
   "execution_count": null,
   "metadata": {
    "collapsed": true
   },
   "outputs": [],
   "source": []
  },
  {
   "cell_type": "code",
   "execution_count": 54,
   "metadata": {},
   "outputs": [
    {
     "name": "stdout",
     "output_type": "stream",
     "text": [
      "(500, 2)\n",
      "(500, 2)\n"
     ]
    }
   ],
   "source": [
    "\n",
    "mean_01 = np.array([1, 1])\n",
    "cov_01 = np.array([[2.9, 1.4], [1.7, 1.5]])\n",
    "\n",
    "mean_02 = np.array([4, 7])\n",
    "cov_02 = np.array([[2, -0.7], [-0.7, 1.5]])\n",
    "\n",
    "data_01 = np.random.multivariate_normal(mean_01, cov_01, 500)\n",
    "data_02 = np.random.multivariate_normal(mean_02, cov_02, 500)\n",
    "print data_01.shape\n",
    "print data_02.shape\n"
   ]
  },
  {
   "cell_type": "code",
   "execution_count": 55,
   "metadata": {},
   "outputs": [
    {
     "data": {
      "image/png": "[encoded data removed]",
      "text/plain": [
       "<matplotlib.figure.Figure at 0x7ff44bdd59d0>"
      ]
     },
     "metadata": {},
     "output_type": "display_data"
    }
   ],
   "source": [
    "plt.figure(0)\n",
    "\n",
    "plt.scatter(data_01[:, 0], data_01[:, 1])\n",
    "plt.scatter(data_02[:, 0], data_02[:, 1], color='red')\n",
    "\n",
    "plt.show()"
   ]
  },
  {
   "cell_type": "code",
   "execution_count": 56,
   "metadata": {},
   "outputs": [
    {
     "name": "stdout",
     "output_type": "stream",
     "text": [
      "[[ 4.54727707  7.463503    1.        ]\n",
      " [ 2.91032117  6.69753277  1.        ]\n",
      " [ 3.10494638  7.72411642  1.        ]\n",
      " [ 4.56773451  6.95054514  1.        ]\n",
      " [ 4.02239675  6.22233601  1.        ]\n",
      " [ 3.09440731  2.02693813  0.        ]\n",
      " [ 3.58101293  7.29476202  1.        ]\n",
      " [ 3.54791329  7.93067328  1.        ]\n",
      " [ 2.86769043  2.76978183  0.        ]\n",
      " [ 1.77096719  3.17487532  0.        ]]\n"
     ]
    }
   ],
   "source": [
    "all_data = np.zeros((1000, 3))\n",
    "\n",
    "all_data[:500, :2] = data_01\n",
    "\n",
    "all_data[500:, :2] = data_02\n",
    "all_data[500:, -1] = 1\n",
    "\n",
    "np.random.shuffle(all_data)\n",
    "print all_data[:10]"
   ]
  },
  {
   "cell_type": "code",
   "execution_count": 57,
   "metadata": {},
   "outputs": [
    {
     "name": "stdout",
     "output_type": "stream",
     "text": [
      "(800, 3) (200, 3)\n"
     ]
    }
   ],
   "source": [
    "split = int(0.8 * all_data.shape[0])\n",
    "\n",
    "train = all_data[:split]\n",
    "test = all_data[split:]\n",
    "\n",
    "print train.shape, test.shape"
   ]
  },
  {
   "cell_type": "code",
   "execution_count": 58,
   "metadata": {},
   "outputs": [
    {
     "data": {
      "text/plain": [
       "LogisticRegression(C=1.0, class_weight=None, dual=False, fit_intercept=True,\n",
       "          intercept_scaling=1, max_iter=100, multi_class='ovr', n_jobs=1,\n",
       "          penalty='l2', random_state=None, solver='liblinear', tol=0.0001,\n",
       "          verbose=0, warm_start=False)"
      ]
     },
     "execution_count": 58,
     "metadata": {},
     "output_type": "execute_result"
    }
   ],
   "source": [
    "lr_02 = LogisticRegression(verbose=0)\n",
    "lr_02.fit(train[:, :-1], train[:, -1])"
   ]
  },
  {
   "cell_type": "code",
   "execution_count": 59,
   "metadata": {},
   "outputs": [
    {
     "data": {
      "text/plain": [
       "0.98999999999999999"
      ]
     },
     "execution_count": 59,
     "metadata": {},
     "output_type": "execute_result"
    }
   ],
   "source": [
    "lr_02.score(test[:, :-1], test[:, -1])"
   ]
  },
  {
   "cell_type": "code",
   "execution_count": 60,
   "metadata": {},
   "outputs": [
    {
     "name": "stdout",
     "output_type": "stream",
     "text": [
      "[[-0.14933428  1.83652957]]\n",
      "[-6.61572432]\n"
     ]
    }
   ],
   "source": [
    "print lr_02.coef_\n",
    "print lr_02.intercept_"
   ]
  },
  {
   "cell_type": "code",
   "execution_count": 61,
   "metadata": {
    "collapsed": true
   },
   "outputs": [],
   "source": [
    "#**************************"
   ]
  },
  {
   "cell_type": "code",
   "execution_count": 68,
   "metadata": {
    "collapsed": true
   },
   "outputs": [],
   "source": [
    "def check_pca_accuracy(X_data, y_data, n_components):\n",
    "    pca = PCA(n_components=n_components)\n",
    "    XX_data = pca.fit_transform(X_data)\n",
    "    lr = LogisticRegression(n_jobs=-1)\n",
    "    lr.fit(XX_data[:4500], y_data[:4500])\n",
    "    return lr.score(XX_data[4500:], y_data[4500:])"
   ]
  },
  {
   "cell_type": "code",
   "execution_count": 69,
   "metadata": {},
   "outputs": [
    {
     "name": "stdout",
     "output_type": "stream",
     "text": [
      "time taken for dimension 2: 0:00:00.189120\n",
      "time taken for dimension 25: 0:00:00.265449\n",
      "time taken for dimension 32: 0:00:00.309739\n",
      "time taken for dimension 64: 0:00:00.771820\n",
      "time taken for dimension 128: 0:00:01.877989\n",
      "time taken for dimension 256: 0:00:05.216791\n",
      "time taken for dimension 343: 0:00:08.651322\n",
      "time taken for dimension 512: 0:00:48.358811\n",
      "time taken for dimension 784: 0:01:25.659986\n"
     ]
    }
   ],
   "source": [
    "dims  =  [2,25,32,64,128,256,343,512,784]\n",
    "acc =[]\n",
    "for dx  in dims :\n",
    "    start = datetime.datetime.now()\n",
    "    acc.append(check_pca_accuracy(X,Y,dx))\n",
    "    print \"time taken for dimension {0}:\".format(dx), datetime.datetime.now() - start \n",
    "    \n"
   ]
  },
  {
   "cell_type": "code",
   "execution_count": 70,
   "metadata": {},
   "outputs": [
    {
     "data": {
      "image/png": "[encoded data removed]",
      "text/plain": [
       "<matplotlib.figure.Figure at 0x7ff44afde790>"
      ]
     },
     "metadata": {},
     "output_type": "display_data"
    },
    {
     "name": "stdout",
     "output_type": "stream",
     "text": [
      "[0.64800000000000002, 0.84199999999999997, 0.85599999999999998, 0.878, 0.89800000000000002, 0.89200000000000002, 0.90800000000000003, 0.86799999999999999, 0.872]\n"
     ]
    }
   ],
   "source": [
    "plt.figure(0)\n",
    "plt.plot(acc)\n",
    "plt.show()\n",
    "print acc"
   ]
  },
  {
   "cell_type": "code",
   "execution_count": null,
   "metadata": {
    "collapsed": true
   },
   "outputs": [],
   "source": []
  }
 ],
 "metadata": {
  "kernelspec": {
   "display_name": "Python 2",
   "language": "python",
   "name": "python2"
  },
  "language_info": {
   "codemirror_mode": {
    "name": "ipython",
    "version": 2
   },
   "file_extension": ".py",
   "mimetype": "text/x-python",
   "name": "python",
   "nbconvert_exporter": "python",
   "pygments_lexer": "ipython2",
   "version": "2.7.13"
  }
 },
 "nbformat": 4,
 "nbformat_minor": 2
}
